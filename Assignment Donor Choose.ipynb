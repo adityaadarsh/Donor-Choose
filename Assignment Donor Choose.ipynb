{
 "cells": [
  {
   "cell_type": "markdown",
   "metadata": {},
   "source": [
    "# DonorsChoose"
   ]
  },
  {
   "cell_type": "markdown",
   "metadata": {},
   "source": [
    "<p>\n",
    "DonorsChoose.org receives hundreds of thousands of project proposals each year for classroom projects in need of funding. Right now, a large number of volunteers is needed to manually screen each submission before it's approved to be posted on the DonorsChoose.org website.\n",
    "</p>\n",
    "<p>\n",
    "    Next year, DonorsChoose.org expects to receive close to 500,000 project proposals. As a result, there are three main problems they need to solve:\n",
    "<ul>\n",
    "<li>\n",
    "    How to scale current manual processes and resources to screen 500,000 projects so that they can be posted as quickly and as efficiently as possible</li>\n",
    "    <li>How to increase the consistency of project vetting across different volunteers to improve the experience for teachers</li>\n",
    "    <li>How to focus volunteer time on the applications that need the most assistance</li>\n",
    "    </ul>\n",
    "</p>    \n",
    "<p>\n",
    "The goal of the competition is to predict whether or not a DonorsChoose.org project proposal submitted by a teacher will be approved, using the text of project descriptions as well as additional metadata about the project, teacher, and school. DonorsChoose.org can then use this information to identify projects most likely to need further review before approval.\n",
    "</p>"
   ]
  },
  {
   "cell_type": "markdown",
   "metadata": {},
   "source": [
    "## About the DonorsChoose Data Set\n",
    "\n",
    "The `train.csv` data set provided by DonorsChoose contains the following features:\n",
    "\n",
    "Feature | Description \n",
    "----------|---------------\n",
    "**`project_id`** | A unique identifier for the proposed project. **Example:** `p036502`   \n",
    "**`project_title`**    | Title of the project. **Examples:**<br><ul><li><code>Art Will Make You Happy!</code></li><li><code>First Grade Fun</code></li></ul> \n",
    "**`project_grade_category`** | Grade level of students for which the project is targeted. One of the following enumerated values: <br/><ul><li><code>Grades PreK-2</code></li><li><code>Grades 3-5</code></li><li><code>Grades 6-8</code></li><li><code>Grades 9-12</code></li></ul>  \n",
    " **`project_subject_categories`** | One or more (comma-separated) subject categories for the project from the following enumerated list of values:  <br/><ul><li><code>Applied Learning</code></li><li><code>Care &amp; Hunger</code></li><li><code>Health &amp; Sports</code></li><li><code>History &amp; Civics</code></li><li><code>Literacy &amp; Language</code></li><li><code>Math &amp; Science</code></li><li><code>Music &amp; The Arts</code></li><li><code>Special Needs</code></li><li><code>Warmth</code></li></ul><br/> **Examples:** <br/><ul><li><code>Music &amp; The Arts</code></li><li><code>Literacy &amp; Language, Math &amp; Science</code></li>  \n",
    "  **`school_state`** | State where school is located ([Two-letter U.S. postal code](https://en.wikipedia.org/wiki/List_of_U.S._state_abbreviations#Postal_codes)). **Example:** `WY`\n",
    "**`project_subject_subcategories`** | One or more (comma-separated) subject subcategories for the project. **Examples:** <br/><ul><li><code>Literacy</code></li><li><code>Literature &amp; Writing, Social Sciences</code></li></ul> \n",
    "**`project_resource_summary`** | An explanation of the resources needed for the project. **Example:** <br/><ul><li><code>My students need hands on literacy materials to manage sensory needs!</code</li></ul> \n",
    "**`project_essay_1`**    | First application essay<sup>*</sup>  \n",
    "**`project_essay_2`**    | Second application essay<sup>*</sup> \n",
    "**`project_essay_3`**    | Third application essay<sup>*</sup> \n",
    "**`project_essay_4`**    | Fourth application essay<sup>*</sup> \n",
    "**`project_submitted_datetime`** | Datetime when project application was submitted. **Example:** `2016-04-28 12:43:56.245`   \n",
    "**`teacher_id`** | A unique identifier for the teacher of the proposed project. **Example:** `bdf8baa8fedef6bfeec7ae4ff1c15c56`  \n",
    "**`teacher_prefix`** | Teacher's title. One of the following enumerated values: <br/><ul><li><code>nan</code></li><li><code>Dr.</code></li><li><code>Mr.</code></li><li><code>Mrs.</code></li><li><code>Ms.</code></li><li><code>Teacher.</code></li></ul>  \n",
    "**`teacher_number_of_previously_posted_projects`** | Number of project applications previously submitted by the same teacher. **Example:** `2` \n",
    "\n",
    "<sup>*</sup> See the section <b>Notes on the Essay Data</b> for more details about these features.\n",
    "\n",
    "Additionally, the `resources.csv` data set provides more data about the resources required for each project. Each line in this file represents a resource required by a project:\n",
    "\n",
    "Feature | Description \n",
    "----------|---------------\n",
    "**`id`** | A `project_id` value from the `train.csv` file.  **Example:** `p036502`   \n",
    "**`description`** | Desciption of the resource. **Example:** `Tenor Saxophone Reeds, Box of 25`   \n",
    "**`quantity`** | Quantity of the resource required. **Example:** `3`   \n",
    "**`price`** | Price of the resource required. **Example:** `9.95`   \n",
    "\n",
    "**Note:** Many projects require multiple resources. The `id` value corresponds to a `project_id` in train.csv, so you use it as a key to retrieve all resources needed for a project:\n",
    "\n",
    "The data set contains the following label (the value you will attempt to predict):\n",
    "\n",
    "Label | Description\n",
    "----------|---------------\n",
    "`project_is_approved` | A binary flag indicating whether DonorsChoose approved the project. A value of `0` indicates the project was not approved, and a value of `1` indicates the project was approved."
   ]
  },
  {
   "cell_type": "markdown",
   "metadata": {},
   "source": [
    "### Notes on the Essay Data\n",
    "\n",
    "<ul>\n",
    "Prior to May 17, 2016, the prompts for the essays were as follows:\n",
    "<li>__project_essay_1:__ \"Introduce us to your classroom\"</li>\n",
    "<li>__project_essay_2:__ \"Tell us more about your students\"</li>\n",
    "<li>__project_essay_3:__ \"Describe how your students will use the materials you're requesting\"</li>\n",
    "<li>__project_essay_3:__ \"Close by sharing why your project will make a difference\"</li>\n",
    "</ul>\n",
    "\n",
    "\n",
    "<ul>\n",
    "Starting on May 17, 2016, the number of essays was reduced from 4 to 2, and the prompts for the first 2 essays were changed to the following:<br>\n",
    "<li>__project_essay_1:__ \"Describe your students: What makes your students special? Specific details about their background, your neighborhood, and your school are all helpful.\"</li>\n",
    "<li>__project_essay_2:__ \"About your project: How will these materials make a difference in your students' learning and improve their school lives?\"</li>\n",
    "<br>For all projects with project_submitted_datetime of 2016-05-17 and later, the values of project_essay_3 and project_essay_4 will be NaN.\n",
    "</ul>\n"
   ]
  },
  {
   "cell_type": "code",
   "execution_count": 1,
   "metadata": {},
   "outputs": [],
   "source": [
    "%matplotlib inline\n",
    "import warnings\n",
    "warnings.filterwarnings(\"ignore\")\n",
    "\n",
    "from tqdm import tqdm\n",
    "import os\n",
    "\n",
    "import datetime\n",
    "import pandas as pd\n",
    "import numpy as np\n",
    "import nltk\n",
    "import string\n",
    "import matplotlib.pyplot as plt\n",
    "import seaborn as sns\n",
    "from sklearn.metrics import roc_curve, auc\n",
    "\n",
    "import re\n",
    "import pickle\n",
    "from sklearn.model_selection import train_test_split"
   ]
  },
  {
   "cell_type": "markdown",
   "metadata": {},
   "source": [
    "## After Preprocessing"
   ]
  },
  {
   "cell_type": "markdown",
   "metadata": {},
   "source": [
    "## Reading Data"
   ]
  },
  {
   "cell_type": "code",
   "execution_count": 2,
   "metadata": {},
   "outputs": [],
   "source": [
    "project_data = pd.read_csv('preprocessed_data.csv')"
   ]
  },
  {
   "cell_type": "code",
   "execution_count": 3,
   "metadata": {},
   "outputs": [
    {
     "name": "stdout",
     "output_type": "stream",
     "text": [
      "Number of data points in train data (109248, 9)\n",
      "--------------------------------------------------\n",
      "The attributes of data : ['school_state' 'teacher_prefix' 'project_grade_category'\n",
      " 'teacher_number_of_previously_posted_projects' 'project_is_approved'\n",
      " 'clean_categories' 'clean_subcategories' 'essay' 'price']\n"
     ]
    }
   ],
   "source": [
    "print(\"Number of data points in train data\", project_data.shape)\n",
    "print('-'*50)\n",
    "print(\"The attributes of data :\", project_data.columns.values)"
   ]
  },
  {
   "cell_type": "code",
   "execution_count": 4,
   "metadata": {},
   "outputs": [
    {
     "data": {
      "text/html": [
       "<div>\n",
       "<style scoped>\n",
       "    .dataframe tbody tr th:only-of-type {\n",
       "        vertical-align: middle;\n",
       "    }\n",
       "\n",
       "    .dataframe tbody tr th {\n",
       "        vertical-align: top;\n",
       "    }\n",
       "\n",
       "    .dataframe thead th {\n",
       "        text-align: right;\n",
       "    }\n",
       "</style>\n",
       "<table border=\"1\" class=\"dataframe\">\n",
       "  <thead>\n",
       "    <tr style=\"text-align: right;\">\n",
       "      <th></th>\n",
       "      <th>school_state</th>\n",
       "      <th>teacher_prefix</th>\n",
       "      <th>project_grade_category</th>\n",
       "      <th>teacher_number_of_previously_posted_projects</th>\n",
       "      <th>project_is_approved</th>\n",
       "      <th>clean_categories</th>\n",
       "      <th>clean_subcategories</th>\n",
       "      <th>essay</th>\n",
       "      <th>price</th>\n",
       "    </tr>\n",
       "  </thead>\n",
       "  <tbody>\n",
       "    <tr>\n",
       "      <td>0</td>\n",
       "      <td>ca</td>\n",
       "      <td>mrs</td>\n",
       "      <td>grades_prek_2</td>\n",
       "      <td>53</td>\n",
       "      <td>1</td>\n",
       "      <td>math_science</td>\n",
       "      <td>appliedsciences health_lifescience</td>\n",
       "      <td>i fortunate enough use fairy tale stem kits cl...</td>\n",
       "      <td>725.05</td>\n",
       "    </tr>\n",
       "    <tr>\n",
       "      <td>1</td>\n",
       "      <td>ut</td>\n",
       "      <td>ms</td>\n",
       "      <td>grades_3_5</td>\n",
       "      <td>4</td>\n",
       "      <td>1</td>\n",
       "      <td>specialneeds</td>\n",
       "      <td>specialneeds</td>\n",
       "      <td>imagine 8 9 years old you third grade classroo...</td>\n",
       "      <td>213.03</td>\n",
       "    </tr>\n",
       "    <tr>\n",
       "      <td>2</td>\n",
       "      <td>ca</td>\n",
       "      <td>mrs</td>\n",
       "      <td>grades_prek_2</td>\n",
       "      <td>10</td>\n",
       "      <td>1</td>\n",
       "      <td>literacy_language</td>\n",
       "      <td>literacy</td>\n",
       "      <td>having class 24 students comes diverse learner...</td>\n",
       "      <td>329.00</td>\n",
       "    </tr>\n",
       "    <tr>\n",
       "      <td>3</td>\n",
       "      <td>ga</td>\n",
       "      <td>mrs</td>\n",
       "      <td>grades_prek_2</td>\n",
       "      <td>2</td>\n",
       "      <td>1</td>\n",
       "      <td>appliedlearning</td>\n",
       "      <td>earlydevelopment</td>\n",
       "      <td>i recently read article giving students choice...</td>\n",
       "      <td>481.04</td>\n",
       "    </tr>\n",
       "    <tr>\n",
       "      <td>4</td>\n",
       "      <td>wa</td>\n",
       "      <td>mrs</td>\n",
       "      <td>grades_3_5</td>\n",
       "      <td>2</td>\n",
       "      <td>1</td>\n",
       "      <td>literacy_language</td>\n",
       "      <td>literacy</td>\n",
       "      <td>my students crave challenge eat obstacles brea...</td>\n",
       "      <td>17.74</td>\n",
       "    </tr>\n",
       "  </tbody>\n",
       "</table>\n",
       "</div>"
      ],
      "text/plain": [
       "  school_state teacher_prefix project_grade_category  \\\n",
       "0           ca            mrs          grades_prek_2   \n",
       "1           ut             ms             grades_3_5   \n",
       "2           ca            mrs          grades_prek_2   \n",
       "3           ga            mrs          grades_prek_2   \n",
       "4           wa            mrs             grades_3_5   \n",
       "\n",
       "   teacher_number_of_previously_posted_projects  project_is_approved  \\\n",
       "0                                            53                    1   \n",
       "1                                             4                    1   \n",
       "2                                            10                    1   \n",
       "3                                             2                    1   \n",
       "4                                             2                    1   \n",
       "\n",
       "    clean_categories                 clean_subcategories  \\\n",
       "0       math_science  appliedsciences health_lifescience   \n",
       "1       specialneeds                        specialneeds   \n",
       "2  literacy_language                            literacy   \n",
       "3    appliedlearning                    earlydevelopment   \n",
       "4  literacy_language                            literacy   \n",
       "\n",
       "                                               essay   price  \n",
       "0  i fortunate enough use fairy tale stem kits cl...  725.05  \n",
       "1  imagine 8 9 years old you third grade classroo...  213.03  \n",
       "2  having class 24 students comes diverse learner...  329.00  \n",
       "3  i recently read article giving students choice...  481.04  \n",
       "4  my students crave challenge eat obstacles brea...   17.74  "
      ]
     },
     "execution_count": 4,
     "metadata": {},
     "output_type": "execute_result"
    }
   ],
   "source": [
    "project_data.head()"
   ]
  },
  {
   "cell_type": "code",
   "execution_count": 5,
   "metadata": {},
   "outputs": [
    {
     "name": "stdout",
     "output_type": "stream",
     "text": [
      "Number of data points in resource data (1541272, 4)\n",
      "--------------------------------------------------\n",
      "The attributes of data : ['id' 'description' 'quantity' 'price']\n"
     ]
    }
   ],
   "source": [
    "resource = pd.read_csv('resources.csv')\n",
    "\n",
    "print(\"Number of data points in resource data\", resource.shape)\n",
    "print('-'*50)\n",
    "print(\"The attributes of data :\", resource.columns.values)"
   ]
  },
  {
   "cell_type": "code",
   "execution_count": 6,
   "metadata": {},
   "outputs": [
    {
     "data": {
      "text/html": [
       "<div>\n",
       "<style scoped>\n",
       "    .dataframe tbody tr th:only-of-type {\n",
       "        vertical-align: middle;\n",
       "    }\n",
       "\n",
       "    .dataframe tbody tr th {\n",
       "        vertical-align: top;\n",
       "    }\n",
       "\n",
       "    .dataframe thead th {\n",
       "        text-align: right;\n",
       "    }\n",
       "</style>\n",
       "<table border=\"1\" class=\"dataframe\">\n",
       "  <thead>\n",
       "    <tr style=\"text-align: right;\">\n",
       "      <th></th>\n",
       "      <th>id</th>\n",
       "      <th>description</th>\n",
       "      <th>quantity</th>\n",
       "      <th>price</th>\n",
       "    </tr>\n",
       "  </thead>\n",
       "  <tbody>\n",
       "    <tr>\n",
       "      <td>0</td>\n",
       "      <td>p233245</td>\n",
       "      <td>LC652 - Lakeshore Double-Space Mobile Drying Rack</td>\n",
       "      <td>1</td>\n",
       "      <td>149.00</td>\n",
       "    </tr>\n",
       "    <tr>\n",
       "      <td>1</td>\n",
       "      <td>p069063</td>\n",
       "      <td>Bouncy Bands for Desks (Blue support pipes)</td>\n",
       "      <td>3</td>\n",
       "      <td>14.95</td>\n",
       "    </tr>\n",
       "    <tr>\n",
       "      <td>2</td>\n",
       "      <td>p069063</td>\n",
       "      <td>Cory Stories: A Kid's Book About Living With Adhd</td>\n",
       "      <td>1</td>\n",
       "      <td>8.45</td>\n",
       "    </tr>\n",
       "    <tr>\n",
       "      <td>3</td>\n",
       "      <td>p069063</td>\n",
       "      <td>Dixon Ticonderoga Wood-Cased #2 HB Pencils, Bo...</td>\n",
       "      <td>2</td>\n",
       "      <td>13.59</td>\n",
       "    </tr>\n",
       "    <tr>\n",
       "      <td>4</td>\n",
       "      <td>p069063</td>\n",
       "      <td>EDUCATIONAL INSIGHTS FLUORESCENT LIGHT FILTERS...</td>\n",
       "      <td>3</td>\n",
       "      <td>24.95</td>\n",
       "    </tr>\n",
       "  </tbody>\n",
       "</table>\n",
       "</div>"
      ],
      "text/plain": [
       "        id                                        description  quantity  \\\n",
       "0  p233245  LC652 - Lakeshore Double-Space Mobile Drying Rack         1   \n",
       "1  p069063        Bouncy Bands for Desks (Blue support pipes)         3   \n",
       "2  p069063  Cory Stories: A Kid's Book About Living With Adhd         1   \n",
       "3  p069063  Dixon Ticonderoga Wood-Cased #2 HB Pencils, Bo...         2   \n",
       "4  p069063  EDUCATIONAL INSIGHTS FLUORESCENT LIGHT FILTERS...         3   \n",
       "\n",
       "    price  \n",
       "0  149.00  \n",
       "1   14.95  \n",
       "2    8.45  \n",
       "3   13.59  \n",
       "4   24.95  "
      ]
     },
     "execution_count": 6,
     "metadata": {},
     "output_type": "execute_result"
    }
   ],
   "source": [
    "resource.head()"
   ]
  },
  {
   "cell_type": "code",
   "execution_count": 7,
   "metadata": {},
   "outputs": [],
   "source": [
    "# Function to check the presence of number in string\n",
    "def presence_of_num(sent):\n",
    "    count = 0\n",
    "    for word in (str(sent).split()):\n",
    "        if (bool(re.match('^[0-9]+', str(word)))):\n",
    "            count=1\n",
    "    return count\n",
    "\n",
    "resource['presence_of_number_in_description']=resource.description.apply(lambda x: presence_of_num(x))"
   ]
  },
  {
   "cell_type": "code",
   "execution_count": 8,
   "metadata": {},
   "outputs": [
    {
     "name": "stdout",
     "output_type": "stream",
     "text": [
      "shape: (109248, 12)\n",
      "\n"
     ]
    },
    {
     "data": {
      "text/html": [
       "<div>\n",
       "<style scoped>\n",
       "    .dataframe tbody tr th:only-of-type {\n",
       "        vertical-align: middle;\n",
       "    }\n",
       "\n",
       "    .dataframe tbody tr th {\n",
       "        vertical-align: top;\n",
       "    }\n",
       "\n",
       "    .dataframe thead th {\n",
       "        text-align: right;\n",
       "    }\n",
       "</style>\n",
       "<table border=\"1\" class=\"dataframe\">\n",
       "  <thead>\n",
       "    <tr style=\"text-align: right;\">\n",
       "      <th></th>\n",
       "      <th>school_state</th>\n",
       "      <th>teacher_prefix</th>\n",
       "      <th>project_grade_category</th>\n",
       "      <th>teacher_number_of_previously_posted_projects</th>\n",
       "      <th>project_is_approved</th>\n",
       "      <th>clean_categories</th>\n",
       "      <th>clean_subcategories</th>\n",
       "      <th>essay</th>\n",
       "      <th>price</th>\n",
       "      <th>id</th>\n",
       "      <th>quantity</th>\n",
       "      <th>presence_of_number_in_description</th>\n",
       "    </tr>\n",
       "  </thead>\n",
       "  <tbody>\n",
       "    <tr>\n",
       "      <td>0</td>\n",
       "      <td>ca</td>\n",
       "      <td>mrs</td>\n",
       "      <td>grades_prek_2</td>\n",
       "      <td>53</td>\n",
       "      <td>1</td>\n",
       "      <td>math_science</td>\n",
       "      <td>appliedsciences health_lifescience</td>\n",
       "      <td>i fortunate enough use fairy tale stem kits cl...</td>\n",
       "      <td>725.05</td>\n",
       "      <td>p253737</td>\n",
       "      <td>23</td>\n",
       "      <td>2</td>\n",
       "    </tr>\n",
       "    <tr>\n",
       "      <td>1</td>\n",
       "      <td>ut</td>\n",
       "      <td>ms</td>\n",
       "      <td>grades_3_5</td>\n",
       "      <td>4</td>\n",
       "      <td>1</td>\n",
       "      <td>specialneeds</td>\n",
       "      <td>specialneeds</td>\n",
       "      <td>imagine 8 9 years old you third grade classroo...</td>\n",
       "      <td>213.03</td>\n",
       "      <td>p258326</td>\n",
       "      <td>1</td>\n",
       "      <td>1</td>\n",
       "    </tr>\n",
       "    <tr>\n",
       "      <td>2</td>\n",
       "      <td>ca</td>\n",
       "      <td>mrs</td>\n",
       "      <td>grades_prek_2</td>\n",
       "      <td>10</td>\n",
       "      <td>1</td>\n",
       "      <td>literacy_language</td>\n",
       "      <td>literacy</td>\n",
       "      <td>having class 24 students comes diverse learner...</td>\n",
       "      <td>329.00</td>\n",
       "      <td>p182444</td>\n",
       "      <td>22</td>\n",
       "      <td>6</td>\n",
       "    </tr>\n",
       "    <tr>\n",
       "      <td>3</td>\n",
       "      <td>ga</td>\n",
       "      <td>mrs</td>\n",
       "      <td>grades_prek_2</td>\n",
       "      <td>2</td>\n",
       "      <td>1</td>\n",
       "      <td>appliedlearning</td>\n",
       "      <td>earlydevelopment</td>\n",
       "      <td>i recently read article giving students choice...</td>\n",
       "      <td>481.04</td>\n",
       "      <td>p246581</td>\n",
       "      <td>4</td>\n",
       "      <td>2</td>\n",
       "    </tr>\n",
       "    <tr>\n",
       "      <td>4</td>\n",
       "      <td>wa</td>\n",
       "      <td>mrs</td>\n",
       "      <td>grades_3_5</td>\n",
       "      <td>2</td>\n",
       "      <td>1</td>\n",
       "      <td>literacy_language</td>\n",
       "      <td>literacy</td>\n",
       "      <td>my students crave challenge eat obstacles brea...</td>\n",
       "      <td>17.74</td>\n",
       "      <td>p104768</td>\n",
       "      <td>4</td>\n",
       "      <td>2</td>\n",
       "    </tr>\n",
       "  </tbody>\n",
       "</table>\n",
       "</div>"
      ],
      "text/plain": [
       "  school_state teacher_prefix project_grade_category  \\\n",
       "0           ca            mrs          grades_prek_2   \n",
       "1           ut             ms             grades_3_5   \n",
       "2           ca            mrs          grades_prek_2   \n",
       "3           ga            mrs          grades_prek_2   \n",
       "4           wa            mrs             grades_3_5   \n",
       "\n",
       "   teacher_number_of_previously_posted_projects  project_is_approved  \\\n",
       "0                                            53                    1   \n",
       "1                                             4                    1   \n",
       "2                                            10                    1   \n",
       "3                                             2                    1   \n",
       "4                                             2                    1   \n",
       "\n",
       "    clean_categories                 clean_subcategories  \\\n",
       "0       math_science  appliedsciences health_lifescience   \n",
       "1       specialneeds                        specialneeds   \n",
       "2  literacy_language                            literacy   \n",
       "3    appliedlearning                    earlydevelopment   \n",
       "4  literacy_language                            literacy   \n",
       "\n",
       "                                               essay   price       id  \\\n",
       "0  i fortunate enough use fairy tale stem kits cl...  725.05  p253737   \n",
       "1  imagine 8 9 years old you third grade classroo...  213.03  p258326   \n",
       "2  having class 24 students comes diverse learner...  329.00  p182444   \n",
       "3  i recently read article giving students choice...  481.04  p246581   \n",
       "4  my students crave challenge eat obstacles brea...   17.74  p104768   \n",
       "\n",
       "   quantity  presence_of_number_in_description  \n",
       "0        23                                  2  \n",
       "1         1                                  1  \n",
       "2        22                                  6  \n",
       "3         4                                  2  \n",
       "4         4                                  2  "
      ]
     },
     "execution_count": 8,
     "metadata": {},
     "output_type": "execute_result"
    }
   ],
   "source": [
    "# merging resourse data and preprocessed data based on unique ID\n",
    "\n",
    "data = pd.read_csv('train_data.csv')\n",
    "project_data['id']=data.id\n",
    "del data\n",
    "\n",
    "data_after_merged = pd.merge(project_data,\n",
    "                            resource.groupby([\"id\"]).sum().drop([\"price\"],axis=1),\n",
    "                            how='inner',\n",
    "                            on='id',)\n",
    "\n",
    "print(f\"shape: {data_after_merged.shape}\\n\")\n",
    "data_after_merged.head()"
   ]
  },
  {
   "cell_type": "markdown",
   "metadata": {},
   "source": [
    "## Assignment :"
   ]
  },
  {
   "cell_type": "markdown",
   "metadata": {},
   "source": [
    "<pre>\n",
    "1. Preprocess all the Data we have in DonorsChoose <a href='https://drive.google.com/drive/folders/1MIwK7BQMev8f5CbDDVNLPaFGB32pFN60'>Dataset</a> use train.csv\n",
    "2. Combine 4 essay's into one column named - 'preprocessed_essays'. \n",
    "3. After step 2 you have to train 3 types of models as discussed below. \n",
    "4. For all the model use <a href='https://scikit-learn.org/stable/modules/model_evaluation.html#roc-metrics'>'auc'</a> as a metric. check <a href='https://datascience.stackexchange.com/a/20192'>this</a> for using auc as a metric \n",
    "5. You are free to choose any number of layers/hiddden units but you have to use same type of architectures shown below. \n",
    "6. You can use any one of the optimizers and choice of Learning rate and momentum, resources: <a href='http://cs231n.github.io/neural-networks-3/'>cs231n class notes</a>, <a href='https://www.youtube.com/watch?v=hd_KFJ5ktUc'>cs231n class video</a>. \n",
    "7. For all the model's use <a href='https://www.youtube.com/watch?v=2U6Jl7oqRkM'>TensorBoard</a> and plot the Metric value and Loss with epoch. While submitting, take a screenshot of plots and include those images in .ipynb notebook and PDF. \n",
    "8. Use Categorical Cross Entropy as Loss to minimize.\n",
    "</pre>"
   ]
  },
  {
   "cell_type": "markdown",
   "metadata": {},
   "source": [
    "### Model-1\n",
    "\n",
    "Build and Train deep neural network as shown below"
   ]
  },
  {
   "cell_type": "markdown",
   "metadata": {},
   "source": [
    "<img src='https://i.imgur.com/w395Yk9.png'>\n",
    "ref: https://i.imgur.com/w395Yk9.png"
   ]
  },
  {
   "cell_type": "markdown",
   "metadata": {},
   "source": [
    "- __Input_seq_total_text_data__ --- You have to give Total text data columns. After this use the Embedding layer to get word vectors. Use given predefined glove word vectors, don't train any word vectors. After this use LSTM and get the LSTM output and Flatten that output. \n",
    "- __Input_school_state__ --- Give 'school_state' column as input to embedding layer and Train the Keras Embedding layer. \n",
    "- __Project_grade_category__  --- Give 'project_grade_category' column as input to embedding layer and Train the Keras Embedding layer.\n",
    "- __Input_clean_categories__ --- Give 'input_clean_categories' column as input to embedding layer and Train the Keras Embedding layer.\n",
    "- __Input_clean_subcategories__ --- Give 'input_clean_subcategories' column as input to embedding layer and Train the Keras Embedding layer.\n",
    "- __Input_clean_subcategories__ --- Give 'input_teacher_prefix' column as input to embedding layer and Train the Keras Embedding layer.\n",
    "- __Input_remaining_teacher_number_of_previously_posted_projects._resource_summary_contains_numerical_digits._price._quantity__ ---concatenate remaining columns and add a Dense layer after that. \n",
    "\n"
   ]
  },
  {
   "cell_type": "code",
   "execution_count": 9,
   "metadata": {},
   "outputs": [],
   "source": [
    "#import tensorflow \n",
    "#from tensorflow import keras\n",
    "\n",
    "from numpy import asarray\n",
    "from numpy import zeros\n",
    "from tensorflow.keras.preprocessing.text import Tokenizer\n",
    "from tensorflow.keras.preprocessing.sequence import pad_sequences\n",
    "from tensorflow.keras.models import Sequential\n",
    "from tensorflow.keras.layers import Dense\n",
    "from tensorflow.keras.layers import Flatten\n",
    "from tensorflow.keras.layers import Embedding\n",
    "from tensorflow.keras.utils import to_categorical\n",
    "from tensorflow.keras.preprocessing.text import one_hot\n",
    "from tensorflow.keras import Model\n",
    "from tensorflow.keras.layers import Input,concatenate,Dropout\n",
    "from tensorflow.keras import Sequential,layers\n",
    "from tensorflow.keras.callbacks import ModelCheckpoint,TensorBoard\n",
    "import tensorflow as tf\n",
    "import numpy as np\n",
    "from sklearn.metrics import roc_auc_score"
   ]
  },
  {
   "cell_type": "markdown",
   "metadata": {},
   "source": [
    "## Data Preparation for training"
   ]
  },
  {
   "cell_type": "code",
   "execution_count": 10,
   "metadata": {},
   "outputs": [
    {
     "name": "stdout",
     "output_type": "stream",
     "text": [
      "(69918, 10)\n",
      "(21850, 10)\n",
      "(17480, 10)\n"
     ]
    }
   ],
   "source": [
    "# one hot encoding of class label\n",
    "classlabel =project_data.project_is_approved\n",
    "classlabel_ohe = to_categorical(classlabel)\n",
    "\n",
    "# Train Test Split\n",
    "X_train, X_cv, y_train, y_cv = train_test_split(data_after_merged.drop([\"project_is_approved\",'id'],axis=1), classlabel_ohe, test_size=0.2,stratify= classlabel, random_state=42)\n",
    "X_train, X_test, y_train, y_test = train_test_split(X_train, y_train, test_size=0.2, random_state=42)\n",
    "\n",
    "print(X_train.shape)\n",
    "print(X_cv.shape)\n",
    "print(X_test.shape)"
   ]
  },
  {
   "cell_type": "code",
   "execution_count": 11,
   "metadata": {},
   "outputs": [
    {
     "data": {
      "text/html": [
       "<div>\n",
       "<style scoped>\n",
       "    .dataframe tbody tr th:only-of-type {\n",
       "        vertical-align: middle;\n",
       "    }\n",
       "\n",
       "    .dataframe tbody tr th {\n",
       "        vertical-align: top;\n",
       "    }\n",
       "\n",
       "    .dataframe thead th {\n",
       "        text-align: right;\n",
       "    }\n",
       "</style>\n",
       "<table border=\"1\" class=\"dataframe\">\n",
       "  <thead>\n",
       "    <tr style=\"text-align: right;\">\n",
       "      <th></th>\n",
       "      <th>school_state</th>\n",
       "      <th>teacher_prefix</th>\n",
       "      <th>project_grade_category</th>\n",
       "      <th>teacher_number_of_previously_posted_projects</th>\n",
       "      <th>clean_categories</th>\n",
       "      <th>clean_subcategories</th>\n",
       "      <th>essay</th>\n",
       "      <th>price</th>\n",
       "      <th>quantity</th>\n",
       "      <th>presence_of_number_in_description</th>\n",
       "    </tr>\n",
       "  </thead>\n",
       "  <tbody>\n",
       "    <tr>\n",
       "      <td>37914</td>\n",
       "      <td>fl</td>\n",
       "      <td>mrs</td>\n",
       "      <td>grades_prek_2</td>\n",
       "      <td>11</td>\n",
       "      <td>appliedlearning specialneeds</td>\n",
       "      <td>earlydevelopment specialneeds</td>\n",
       "      <td>each day i like start class rocking we are fam...</td>\n",
       "      <td>355.50</td>\n",
       "      <td>4</td>\n",
       "      <td>2</td>\n",
       "    </tr>\n",
       "    <tr>\n",
       "      <td>69690</td>\n",
       "      <td>wv</td>\n",
       "      <td>mr</td>\n",
       "      <td>grades_3_5</td>\n",
       "      <td>0</td>\n",
       "      <td>literacy_language</td>\n",
       "      <td>literacy</td>\n",
       "      <td>as students first stepped classroom year i wit...</td>\n",
       "      <td>370.94</td>\n",
       "      <td>1</td>\n",
       "      <td>1</td>\n",
       "    </tr>\n",
       "    <tr>\n",
       "      <td>34920</td>\n",
       "      <td>ca</td>\n",
       "      <td>mrs</td>\n",
       "      <td>grades_prek_2</td>\n",
       "      <td>3</td>\n",
       "      <td>literacy_language math_science</td>\n",
       "      <td>literacy mathematics</td>\n",
       "      <td>my students truly amazing they love exploring ...</td>\n",
       "      <td>14.98</td>\n",
       "      <td>14</td>\n",
       "      <td>4</td>\n",
       "    </tr>\n",
       "    <tr>\n",
       "      <td>64621</td>\n",
       "      <td>az</td>\n",
       "      <td>mrs</td>\n",
       "      <td>grades_3_5</td>\n",
       "      <td>14</td>\n",
       "      <td>health_sports</td>\n",
       "      <td>gym_fitness teamsports</td>\n",
       "      <td>a typical day classroom fun active engaging i ...</td>\n",
       "      <td>277.75</td>\n",
       "      <td>8</td>\n",
       "      <td>2</td>\n",
       "    </tr>\n",
       "    <tr>\n",
       "      <td>1410</td>\n",
       "      <td>md</td>\n",
       "      <td>ms</td>\n",
       "      <td>grades_6_8</td>\n",
       "      <td>2</td>\n",
       "      <td>music_arts</td>\n",
       "      <td>music performingarts</td>\n",
       "      <td>since moving new school percussion section pro...</td>\n",
       "      <td>1727.66</td>\n",
       "      <td>8</td>\n",
       "      <td>2</td>\n",
       "    </tr>\n",
       "  </tbody>\n",
       "</table>\n",
       "</div>"
      ],
      "text/plain": [
       "      school_state teacher_prefix project_grade_category  \\\n",
       "37914           fl            mrs          grades_prek_2   \n",
       "69690           wv             mr             grades_3_5   \n",
       "34920           ca            mrs          grades_prek_2   \n",
       "64621           az            mrs             grades_3_5   \n",
       "1410            md             ms             grades_6_8   \n",
       "\n",
       "       teacher_number_of_previously_posted_projects  \\\n",
       "37914                                            11   \n",
       "69690                                             0   \n",
       "34920                                             3   \n",
       "64621                                            14   \n",
       "1410                                              2   \n",
       "\n",
       "                     clean_categories            clean_subcategories  \\\n",
       "37914    appliedlearning specialneeds  earlydevelopment specialneeds   \n",
       "69690               literacy_language                       literacy   \n",
       "34920  literacy_language math_science           literacy mathematics   \n",
       "64621                   health_sports         gym_fitness teamsports   \n",
       "1410                       music_arts           music performingarts   \n",
       "\n",
       "                                                   essay    price  quantity  \\\n",
       "37914  each day i like start class rocking we are fam...   355.50         4   \n",
       "69690  as students first stepped classroom year i wit...   370.94         1   \n",
       "34920  my students truly amazing they love exploring ...    14.98        14   \n",
       "64621  a typical day classroom fun active engaging i ...   277.75         8   \n",
       "1410   since moving new school percussion section pro...  1727.66         8   \n",
       "\n",
       "       presence_of_number_in_description  \n",
       "37914                                  2  \n",
       "69690                                  1  \n",
       "34920                                  4  \n",
       "64621                                  2  \n",
       "1410                                   2  "
      ]
     },
     "execution_count": 11,
     "metadata": {},
     "output_type": "execute_result"
    }
   ],
   "source": [
    "X_train.head()"
   ]
  },
  {
   "cell_type": "markdown",
   "metadata": {},
   "source": [
    "# 1.Training Using Model 1"
   ]
  },
  {
   "cell_type": "markdown",
   "metadata": {},
   "source": [
    "### 1.1 preparing essay feature"
   ]
  },
  {
   "cell_type": "code",
   "execution_count": 12,
   "metadata": {},
   "outputs": [
    {
     "name": "stdout",
     "output_type": "stream",
     "text": [
      "maximumn length sentece in corpus:331\n"
     ]
    }
   ],
   "source": [
    "# Utility function\n",
    "# Finding maximum length of sentence in the corpus\n",
    "\n",
    "def max_len(doc):\n",
    "    temp=0\n",
    "    for sent in doc:       \n",
    "        if (len(sent.split()))>temp:\n",
    "            temp = len(sent.split())\n",
    "    return temp\n",
    "\n",
    "max_len_of_sent=max_len(X_train.essay)\n",
    "print(f'maximumn length sentece in corpus:{max_len_of_sent}')"
   ]
  },
  {
   "cell_type": "code",
   "execution_count": 13,
   "metadata": {},
   "outputs": [
    {
     "name": "stderr",
     "output_type": "stream",
     "text": [
      "IOPub data rate exceeded.\n",
      "The notebook server will temporarily stop sending output\n",
      "to the client in order to avoid crashing it.\n",
      "To change this limit, set the config variable\n",
      "`--NotebookApp.iopub_data_rate_limit`.\n",
      "\n",
      "Current values:\n",
      "NotebookApp.iopub_data_rate_limit=1000000.0 (bytes/sec)\n",
      "NotebookApp.rate_limit_window=3.0 (secs)\n",
      "\n"
     ]
    },
    {
     "name": "stdout",
     "output_type": "stream",
     "text": [
      "\n",
      "[[  272    20     2 ...     0     0     0]\n",
      " [  106     1    72 ...     0     0     0]\n",
      " [    4     1   382 ...     0     0     0]\n",
      " ...\n",
      " [    2 11025    76 ...     0     0     0]\n",
      " [    4    62   398 ...     0     0     0]\n",
      " [    2  1388    79 ...     0     0     0]]\n"
     ]
    }
   ],
   "source": [
    "# refer: https://machinelearningmastery.com/use-word-embedding-layers-deep-learning-keras/\n",
    "\n",
    "# define documents\n",
    "train_essay = X_train.essay\n",
    "cv_essay = X_cv.essay\n",
    "test_essay = X_test.essay\n",
    "\n",
    "# prepare tokenizer\n",
    "t = Tokenizer()\n",
    "t.fit_on_texts(train_essay)\n",
    "vocab_size_essay = len(t.word_index) + 1\n",
    "# integer encode the documents\n",
    "train_encoded_essay = t.texts_to_sequences(train_essay)\n",
    "cv_encoded_essay = t.texts_to_sequences(cv_essay)\n",
    "test_encoded_essay = t.texts_to_sequences(test_essay)\n",
    "print(train_encoded_essay)\n",
    "\n",
    "\n",
    "# pad documents to a max length of words :339 in our case\n",
    "max_length = max_len_of_sent\n",
    "train_padded_essay = pad_sequences(train_encoded_essay, maxlen=max_length, padding='post')\n",
    "cv_padded_essay = pad_sequences(cv_encoded_essay, maxlen=max_length, padding='post')\n",
    "test_padded_essay = pad_sequences(test_encoded_essay, maxlen=max_length, padding='post')\n",
    "print(train_padded_essay)\n"
   ]
  },
  {
   "cell_type": "code",
   "execution_count": null,
   "metadata": {},
   "outputs": [],
   "source": [
    "# load the whole embedding into memory\n",
    "embeddings_index = dict()\n",
    "f = open('glove.42B.300d.txt',encoding='utf-8')\n",
    "for line in f:\n",
    "    values = line.split()\n",
    "    word = values[0]\n",
    "    coefs = asarray(values[1:], dtype='float32')\n",
    "    embeddings_index[word] = coefs\n",
    "f.close()\n",
    "\n",
    "\n",
    "print('Loaded %s word vectors.' % len(embeddings_index))\n",
    "# create a weight matrix for words in training docs\n",
    "embedding_matrix = zeros((train_encoded_essay, 300))\n",
    "for word, i in t.word_index.items():\n",
    "    embedding_vector = embeddings_index.get(word)\n",
    "    if embedding_vector is not None:\n",
    "        embedding_matrix[i] = embedding_vector"
   ]
  },
  {
   "cell_type": "code",
   "execution_count": 14,
   "metadata": {},
   "outputs": [],
   "source": [
    "\"\"\"# Saving embedding matrix\n",
    "file = open(\"embedding_matrix\",'wb')\n",
    "np.save(file,embedding_matrix)\n",
    "file.close()\n",
    "\"\"\"\n",
    "with open(\"embedding_matrix\",'rb') as f:\n",
    "    embedding_matrix=np.load(f)"
   ]
  },
  {
   "cell_type": "markdown",
   "metadata": {},
   "source": [
    "### 1.2. Preparing school_state data for training "
   ]
  },
  {
   "cell_type": "code",
   "execution_count": 15,
   "metadata": {},
   "outputs": [
    {
     "name": "stdout",
     "output_type": "stream",
     "text": [
      "before: \n",
      "73624    tx\n",
      "2158     mi\n",
      "74759    nv\n",
      "89804    ma\n",
      "18127    ca\n",
      "Name: school_state, dtype: object\n",
      "\n",
      "after: \n",
      "[[43]\n",
      " [22]\n",
      " [33]\n",
      " [19]\n",
      " [ 4]]\n"
     ]
    }
   ],
   "source": [
    "from sklearn.preprocessing import LabelEncoder\n",
    "lb=LabelEncoder()\n",
    "\n",
    "train_school_state_label_encoded = lb.fit_transform(X_train.school_state).reshape(-1,1)\n",
    "cv_school_state_label_encoded = lb.transform(X_cv.school_state).reshape(-1,1)\n",
    "test_school_state_label_encoded = lb.transform(X_test.school_state).reshape(-1,1)\n",
    "\n",
    "print(f\"before: \\n{X_test.school_state.iloc[:5]}\\n\")\n",
    "print(f\"after: \\n{test_school_state_label_encoded[:5]}\")\n"
   ]
  },
  {
   "cell_type": "markdown",
   "metadata": {},
   "source": [
    "### 1.3. Preparing teacher_prefix data for training"
   ]
  },
  {
   "cell_type": "code",
   "execution_count": 16,
   "metadata": {},
   "outputs": [
    {
     "name": "stdout",
     "output_type": "stream",
     "text": [
      "before: \n",
      "73624     ms\n",
      "2158     mrs\n",
      "74759    mrs\n",
      "89804    mrs\n",
      "18127    mrs\n",
      "Name: teacher_prefix, dtype: object\n",
      "\n",
      "after: \n",
      "[[3]\n",
      " [2]\n",
      " [2]\n",
      " [2]\n",
      " [2]]\n"
     ]
    }
   ],
   "source": [
    "from sklearn.preprocessing import LabelEncoder\n",
    "lb=LabelEncoder()\n",
    "\n",
    "train_teacher_prefix_label_encoded = lb.fit_transform(X_train.teacher_prefix).reshape(-1,1)\n",
    "cv_teacher_prefix_label_encoded = lb.transform(X_cv.teacher_prefix).reshape(-1,1)\n",
    "test_teacher_prefix_label_encoded = lb.transform(X_test.teacher_prefix).reshape(-1,1)\n",
    "\n",
    "print(f\"before: \\n{X_test.teacher_prefix.iloc[:5]}\\n\")\n",
    "print(f\"after: \\n{test_teacher_prefix_label_encoded[:5]}\")"
   ]
  },
  {
   "cell_type": "markdown",
   "metadata": {},
   "source": [
    "### 1.4. Preparing project_grade_category data for training"
   ]
  },
  {
   "cell_type": "code",
   "execution_count": 17,
   "metadata": {},
   "outputs": [
    {
     "name": "stdout",
     "output_type": "stream",
     "text": [
      "before: \n",
      "73624    grades_prek_2\n",
      "2158     grades_prek_2\n",
      "74759    grades_prek_2\n",
      "89804       grades_3_5\n",
      "18127    grades_prek_2\n",
      "Name: project_grade_category, dtype: object\n",
      "\n",
      "after: \n",
      "[[3]\n",
      " [3]\n",
      " [3]\n",
      " [0]\n",
      " [3]]\n"
     ]
    }
   ],
   "source": [
    "np.unique(project_data.project_grade_category)\n",
    "\n",
    "from sklearn.preprocessing import LabelEncoder\n",
    "lb=LabelEncoder()\n",
    "\n",
    "train_grade_label_encoded = lb.fit_transform(X_train.project_grade_category).reshape(-1,1)\n",
    "cv_grade_label_encoded = lb.transform(X_cv.project_grade_category).reshape(-1,1)\n",
    "test_grade_label_encoded = lb.transform(X_test.project_grade_category).reshape(-1,1)\n",
    "\n",
    "print(f\"before: \\n{X_test.project_grade_category.iloc[:5]}\\n\")\n",
    "print(f\"after: \\n{test_grade_label_encoded[:5]}\")"
   ]
  },
  {
   "cell_type": "markdown",
   "metadata": {},
   "source": [
    "### 1.5. Preparing clean_categories data for training"
   ]
  },
  {
   "cell_type": "code",
   "execution_count": 18,
   "metadata": {},
   "outputs": [
    {
     "name": "stdout",
     "output_type": "stream",
     "text": [
      "73624                 literacy_language\n",
      "2158     literacy_language math_science\n",
      "74759                 literacy_language\n",
      "89804                 literacy_language\n",
      "18127                   appliedlearning\n",
      "Name: clean_categories, dtype: object\n",
      "[[1 0 0]\n",
      " [1 2 0]\n",
      " [1 0 0]\n",
      " [1 0 0]\n",
      " [5 0 0]]\n"
     ]
    }
   ],
   "source": [
    "# refer: https://machinelearningmastery.com/use-word-embedding-layers-deep-learning-keras/\n",
    "\n",
    "# prepare tokenizer\n",
    "t = Tokenizer(filters='\\t')\n",
    "t.fit_on_texts(X_train.clean_categories)\n",
    "# integer encode the documents\n",
    "train_encoded_clean_categories = t.texts_to_sequences( X_train.clean_categories)\n",
    "cv_encoded_clean_categories  = t.texts_to_sequences( X_cv.clean_categories)\n",
    "test_encoded_clean_categories = t.texts_to_sequences( X_test.clean_categories)\n",
    "\n",
    "# vocab size\n",
    "category_vocab_size = len(t.word_counts)+1\n",
    "\n",
    "# pad documents to a max length of subcategories :3 in our case\n",
    "max_length = max_len(X_train.clean_categories)\n",
    "\n",
    "train_padded_clean_categories = pad_sequences(train_encoded_clean_categories, maxlen=max_length, padding='post')\n",
    "cv_padded_clean_categories = pad_sequences(cv_encoded_clean_categories, maxlen=max_length, padding='post')\n",
    "test_padded_clean_categories = pad_sequences(test_encoded_clean_categories, maxlen=max_length, padding='post')\n",
    "print(X_test.clean_categories.iloc[:5])\n",
    "print(test_padded_clean_categories[:5])"
   ]
  },
  {
   "cell_type": "code",
   "execution_count": 19,
   "metadata": {},
   "outputs": [
    {
     "name": "stdout",
     "output_type": "stream",
     "text": [
      "Encoded word index foe subcategories:\n",
      "\n"
     ]
    },
    {
     "data": {
      "text/plain": [
       "{1: 'literacy_language',\n",
       " 2: 'math_science',\n",
       " 3: 'health_sports',\n",
       " 4: 'specialneeds',\n",
       " 5: 'appliedlearning',\n",
       " 6: 'music_arts',\n",
       " 7: 'history_civics',\n",
       " 8: 'warmth',\n",
       " 9: 'care_hunger'}"
      ]
     },
     "execution_count": 19,
     "metadata": {},
     "output_type": "execute_result"
    }
   ],
   "source": [
    "print(f\"Encoded word index foe subcategories:\\n\")\n",
    "t.index_word"
   ]
  },
  {
   "cell_type": "markdown",
   "metadata": {},
   "source": [
    "### 1.6. Preparing clean_subcategories data for training"
   ]
  },
  {
   "cell_type": "code",
   "execution_count": 20,
   "metadata": {},
   "outputs": [
    {
     "name": "stdout",
     "output_type": "stream",
     "text": [
      "37914      appliedlearning specialneeds\n",
      "69690                 literacy_language\n",
      "34920    literacy_language math_science\n",
      "64621                     health_sports\n",
      "1410                         music_arts\n",
      "Name: clean_categories, dtype: object\n",
      "[[11  4  0]\n",
      " [ 1  0  0]\n",
      " [ 1  2  0]\n",
      " [ 9 17  0]\n",
      " [14 19  0]]\n"
     ]
    }
   ],
   "source": [
    "# refer: https://machinelearningmastery.com/use-word-embedding-layers-deep-learning-keras/\n",
    "# define documents\n",
    "train_clean_subcategories = X_train.clean_subcategories\n",
    "cv_clean_subcategories = X_cv.clean_subcategories\n",
    "test_clean_subcategories = X_test.clean_subcategories\n",
    "\n",
    "# prepare tokenizer\n",
    "t = Tokenizer(filters='\\t')\n",
    "t.fit_on_texts(train_clean_subcategories)\n",
    "# integer encode the documents\n",
    "train_encoded_clean_subcategories = t.texts_to_sequences(train_clean_subcategories)\n",
    "cv_encoded_clean_subcategories = t.texts_to_sequences(cv_clean_subcategories)\n",
    "test_encoded_clean_subcategories = t.texts_to_sequences(test_clean_subcategories)\n",
    "\n",
    "sub_category_vocab_size = len(t.word_counts)+1\n",
    "\n",
    "# pad documents to a max length of subcategories :3 in our case\n",
    "max_length = 3\n",
    "train_padded_clean_subcategories = pad_sequences(train_encoded_clean_subcategories, maxlen=max_length, padding='post')\n",
    "cv_padded_clean_subcategories = pad_sequences(cv_encoded_clean_subcategories, maxlen=max_length, padding='post')\n",
    "test_padded_clean_subcategories = pad_sequences(test_encoded_clean_subcategories, maxlen=max_length, padding='post')\n",
    "print(X_train.clean_categories.iloc[:5])\n",
    "print(train_padded_clean_subcategories[:5])"
   ]
  },
  {
   "cell_type": "code",
   "execution_count": 21,
   "metadata": {},
   "outputs": [
    {
     "name": "stdout",
     "output_type": "stream",
     "text": [
      "Encoded word index foe subcategories:\n",
      "\n",
      "{1: 'literacy', 2: 'mathematics', 3: 'literature_writing', 4: 'specialneeds', 5: 'appliedsciences', 6: 'health_wellness', 7: 'visualarts', 8: 'environmentalscience', 9: 'gym_fitness', 10: 'esl', 11: 'earlydevelopment', 12: 'health_lifescience', 13: 'history_geography', 14: 'music', 15: 'college_careerprep', 16: 'other', 17: 'teamsports', 18: 'charactereducation', 19: 'performingarts', 20: 'socialsciences', 21: 'warmth', 22: 'care_hunger', 23: 'nutritioneducation', 24: 'foreignlanguages', 25: 'civics_government', 26: 'extracurricular', 27: 'parentinvolvement', 28: 'financialliteracy', 29: 'communityservice', 30: 'economics'}\n"
     ]
    }
   ],
   "source": [
    "print(f\"Encoded word index foe subcategories:\\n\\n{t.index_word}\")"
   ]
  },
  {
   "cell_type": "markdown",
   "metadata": {},
   "source": [
    "####   Remaining Feature will be as it is used in Model with  using keras concetenation layer"
   ]
  },
  {
   "cell_type": "markdown",
   "metadata": {},
   "source": [
    "### 1.7 Modeling on All features"
   ]
  },
  {
   "cell_type": "markdown",
   "metadata": {},
   "source": [
    "#### Model -1"
   ]
  },
  {
   "cell_type": "code",
   "execution_count": 124,
   "metadata": {},
   "outputs": [],
   "source": [
    "#initialisation of vocab size and shapes of all input features\n",
    "\n",
    "# Vocab size of each feature for Embeding Layer\n",
    "vocab_size_essay = vocab_size_essay\n",
    "category_vocab_size = category_vocab_size\n",
    "sub_category_vocab_size = sub_category_vocab_size\n",
    "train_school_state_label_encoded_vocab_size = len(np.unique(train_school_state_label_encoded))\n",
    "train_teacher_prefix_label_encoded_vocab_size = len(np.unique(train_teacher_prefix_label_encoded))\n",
    "train_grade_label_encoded_vocab_size = len(np.unique(train_grade_label_encoded))\n",
    "\n",
    "# shapes of input of each feaures for Input Layer\n",
    "train_padded_essay_shape = train_padded_essay.shape\n",
    "train_school_state_label_encoded_shape = train_school_state_label_encoded.shape\n",
    "train_teacher_prefix_label_encoded_shape = train_teacher_prefix_label_encoded.shape\n",
    "train_grade_label_encoded_shape = train_grade_label_encoded.shape\n",
    "train_padded_clean_subcategories_shape = train_padded_clean_subcategories.shape\n",
    "train_padded_clean_categories_shape = train_padded_clean_categories.shape\n",
    "train_price_shape = X_train['price'].shape\n",
    "train_teacher_number_of_previously_posted_projects_shape = X_train[\"teacher_number_of_previously_posted_projects\"].shape"
   ]
  },
  {
   "cell_type": "code",
   "execution_count": 129,
   "metadata": {},
   "outputs": [
    {
     "name": "stdout",
     "output_type": "stream",
     "text": [
      "WARNING:tensorflow:Large dropout rate: 0.7 (>0.5). In TensorFlow 2.x, dropout() uses dropout rate instead of keep_prob. Please ensure that this is intended.\n",
      "Model: \"model\"\n",
      "__________________________________________________________________________________________________\n",
      "Layer (type)                    Output Shape         Param #     Connected to                     \n",
      "==================================================================================================\n",
      "essay_input (InputLayer)        [(None, 331)]        0                                            \n",
      "__________________________________________________________________________________________________\n",
      "embedding (Embedding)           (None, 331, 300)     14232600    essay_input[0][0]                \n",
      "__________________________________________________________________________________________________\n",
      "school_state_input (InputLayer) [(None, 1)]          0                                            \n",
      "__________________________________________________________________________________________________\n",
      "teacher_prefix (InputLayer)     [(None, 1)]          0                                            \n",
      "__________________________________________________________________________________________________\n",
      "project_grade_category (InputLa [(None, 1)]          0                                            \n",
      "__________________________________________________________________________________________________\n",
      "clean_categories (InputLayer)   [(None, 3)]          0                                            \n",
      "__________________________________________________________________________________________________\n",
      "price (InputLayer)              [(None, 1)]          0                                            \n",
      "__________________________________________________________________________________________________\n",
      "teacher_number_of_previously_po [(None, 1)]          0                                            \n",
      "__________________________________________________________________________________________________\n",
      "quantity (InputLayer)           [(None, 1)]          0                                            \n",
      "__________________________________________________________________________________________________\n",
      "presence_of_num (InputLayer)    [(None, 1)]          0                                            \n",
      "__________________________________________________________________________________________________\n",
      "bidirectional (Bidirectional)   (None, 331, 64)      85248       embedding[0][0]                  \n",
      "__________________________________________________________________________________________________\n",
      "embedding_1 (Embedding)         (None, 1, 100)       5100        school_state_input[0][0]         \n",
      "__________________________________________________________________________________________________\n",
      "embedding_2 (Embedding)         (None, 1, 100)       5100        teacher_prefix[0][0]             \n",
      "__________________________________________________________________________________________________\n",
      "embedding_3 (Embedding)         (None, 1, 100)       400         project_grade_category[0][0]     \n",
      "__________________________________________________________________________________________________\n",
      "embedding_4 (Embedding)         (None, 3, 150)       1500        clean_categories[0][0]           \n",
      "__________________________________________________________________________________________________\n",
      "concat_input7_input8 (Concatena (None, 4)            0           price[0][0]                      \n",
      "                                                                 teacher_number_of_previously_post\n",
      "                                                                 quantity[0][0]                   \n",
      "                                                                 presence_of_num[0][0]            \n",
      "__________________________________________________________________________________________________\n",
      "flatten (Flatten)               (None, 21184)        0           bidirectional[0][0]              \n",
      "__________________________________________________________________________________________________\n",
      "flatten_1 (Flatten)             (None, 100)          0           embedding_1[0][0]                \n",
      "__________________________________________________________________________________________________\n",
      "flatten_2 (Flatten)             (None, 100)          0           embedding_2[0][0]                \n",
      "__________________________________________________________________________________________________\n",
      "flatten_3 (Flatten)             (None, 100)          0           embedding_3[0][0]                \n",
      "__________________________________________________________________________________________________\n",
      "flatten_4 (Flatten)             (None, 450)          0           embedding_4[0][0]                \n",
      "__________________________________________________________________________________________________\n",
      "dense (Dense)                   (None, 32)           160         concat_input7_input8[0][0]       \n",
      "__________________________________________________________________________________________________\n",
      "concat_all_output (Concatenate) (None, 21966)        0           flatten[0][0]                    \n",
      "                                                                 flatten_1[0][0]                  \n",
      "                                                                 flatten_2[0][0]                  \n",
      "                                                                 flatten_3[0][0]                  \n",
      "                                                                 flatten_4[0][0]                  \n",
      "                                                                 dense[0][0]                      \n",
      "__________________________________________________________________________________________________\n",
      "dense_1 (Dense)                 (None, 128)          2811776     concat_all_output[0][0]          \n",
      "__________________________________________________________________________________________________\n",
      "dropout (Dropout)               (None, 128)          0           dense_1[0][0]                    \n",
      "__________________________________________________________________________________________________\n",
      "batch_normalization (BatchNorma (None, 128)          512         dropout[0][0]                    \n",
      "__________________________________________________________________________________________________\n",
      "dense_2 (Dense)                 (None, 512)          66048       batch_normalization[0][0]        \n",
      "__________________________________________________________________________________________________\n",
      "dropout_1 (Dropout)             (None, 512)          0           dense_2[0][0]                    \n",
      "__________________________________________________________________________________________________\n",
      "batch_normalization_1 (BatchNor (None, 512)          2048        dropout_1[0][0]                  \n",
      "__________________________________________________________________________________________________\n",
      "dense_3 (Dense)                 (None, 128)          65664       batch_normalization_1[0][0]      \n",
      "__________________________________________________________________________________________________\n",
      "dropout_2 (Dropout)             (None, 128)          0           dense_3[0][0]                    \n",
      "__________________________________________________________________________________________________\n",
      "clean_subcategories (InputLayer [(None, 3)]          0                                            \n",
      "__________________________________________________________________________________________________\n",
      "output_layer (Dense)            (None, 2)            258         dropout_2[0][0]                  \n",
      "==================================================================================================\n",
      "Total params: 17,276,414\n",
      "Trainable params: 3,042,534\n",
      "Non-trainable params: 14,233,880\n",
      "__________________________________________________________________________________________________\n",
      "None\n"
     ]
    }
   ],
   "source": [
    "# Model 1 using Keras Functional Api\n",
    "\n",
    "tf.keras.backend.clear_session()\n",
    "# Eaasy\n",
    "input1= Input(shape=(train_padded_essay_shape[1],) ,name='essay_input' )\n",
    "# Essay embed layer using pretrained Glove embedings of 300 dim\n",
    "Embeded_layer1 = Embedding(vocab_size_essay, output_dim=300, weights=[embedding_matrix], input_length=339, trainable=False)(input1)\n",
    "# Lstm layer for essay\n",
    "lstm_layer1 = (layers.LSTM(units=32,return_sequences=True))(Embeded_layer1)\n",
    "flatten1 = Flatten()(lstm_layer1)\n",
    "\n",
    "# school state\n",
    "input2= Input(shape=(train_school_state_label_encoded_shape[1],) ,name='school_state_input')\n",
    "Embeded_layer2= Embedding(train_school_state_label_encoded_vocab_size, output_dim=100, input_length=1)(input2)\n",
    "flatten2 = Flatten()(Embeded_layer2)\n",
    "\n",
    "# teacher_prefix\n",
    "input3= Input(shape=(train_teacher_prefix_label_encoded_shape[1],) ,name='teacher_prefix')\n",
    "Embeded_layer3= Embedding(train_school_state_label_encoded_vocab_size, output_dim=100, input_length=1)(input3)\n",
    "flatten3 = Flatten()(Embeded_layer3)\n",
    "\n",
    "# project_grade_category\n",
    "input4= Input(shape=(train_grade_label_encoded_shape[1],) ,name='project_grade_category')\n",
    "Embeded_layer4 = Embedding(train_grade_label_encoded_vocab_size, output_dim=100, input_length=1)(input4)\n",
    "flatten4 = Flatten()(Embeded_layer4)\n",
    "\n",
    "# clean_subcategories\n",
    "input5= Input(shape=(train_padded_clean_categories_shape[1],) ,name='clean_categories')\n",
    "Embeded_layer5 = Embedding(category_vocab_size, output_dim=150, input_length=3)(input5)\n",
    "flatten5 = Flatten()(Embeded_layer5)\n",
    "\n",
    "# clean_subcategories\n",
    "input6= Input(shape=(train_padded_clean_subcategories_shape[1],) ,name='clean_subcategories')\n",
    "Embeded_layer6 = Embedding(sub_category_vocab_size, output_dim=150, input_length=3)(input6)\n",
    "flatten6 = Flatten()(Embeded_layer6)\n",
    "\n",
    "input7 = Input(shape=(1,) ,name='price')\n",
    "input8 = Input(shape=(1,) ,name='teacher_number_of_previously_posted_projects')\n",
    "input9 = Input(shape=(1,) ,name='quantity')\n",
    "input10 = Input(shape=(1,) ,name='presence_of_num')\n",
    "\n",
    "concat_input_7_8_9_10 = concatenate([input7,input8,input9,input10], name='concat_input7_input8')\n",
    "dense1 = Dense(32,activation='relu',kernel_initializer='he_uniform')(concat_input_7_8_9_10)\n",
    "\n",
    "# Concatenation of all output of previous layers\n",
    "concatenate2 = concatenate([flatten1,flatten2,flatten3,flatten4,flatten5,dense1], name=\"concat_all_output\")\n",
    "\n",
    "# Dense layer 2 after concatenation of all output\n",
    "dense_layer2 = Dense(units=128 ,activation='relu' ,kernel_initializer='he_uniform')(concatenate2)\n",
    "dropout1=Dropout(rate=0.7)(dense_layer2)\n",
    "batch_normalize1 = layers.BatchNormalization()(dropout1)\n",
    "\n",
    "\n",
    "# Dense layer 3 after concatenation of all output\n",
    "dense_layer3 = Dense(units=512 ,activation='relu' ,kernel_initializer='he_uniform')(batch_normalize1)\n",
    "dropout2 = Dropout(rate=0.5)(dense_layer3)\n",
    "batch_normalize2=layers.BatchNormalization()(dropout2)\n",
    "\n",
    "\n",
    "# Dense layer 3 after concatenation of all output\n",
    "dense_layer4 = Dense(units=128 ,activation='relu' ,kernel_initializer='he_uniform')(batch_normalize2)\n",
    "dropout2 = Dropout(rate=0.5)(dense_layer4)\n",
    "\n",
    "#output\n",
    "output = Dense(units=2 ,activation='softmax' ,kernel_initializer='glorot_uniform', name=\"output_layer\")(dropout2)\n",
    "\n",
    "Model1 = Model(inputs=[input1,input2,input3,input4,input5,input6,input7,input8,input9,input10], outputs=output)\n",
    "print(Model1.summary())"
   ]
  },
  {
   "cell_type": "code",
   "execution_count": 130,
   "metadata": {},
   "outputs": [],
   "source": [
    "train=[train_padded_essay,train_school_state_label_encoded,train_teacher_prefix_label_encoded,train_grade_label_encoded,train_padded_clean_categories,\n",
    "       train_padded_clean_subcategories,X_train[\"price\"],X_train[\"teacher_number_of_previously_posted_projects\"],X_train['quantity'],\n",
    "       X_train['presence_of_number_in_description']]\n",
    "\n",
    "cv = [cv_padded_essay,cv_school_state_label_encoded,cv_teacher_prefix_label_encoded,cv_grade_label_encoded,cv_padded_clean_categories,\n",
    "      cv_padded_clean_subcategories,X_cv[\"price\"],X_cv[\"teacher_number_of_previously_posted_projects\"],X_cv['quantity'],\n",
    "      X_cv['presence_of_number_in_description']]\n",
    "\n",
    "test = [test_padded_essay,test_school_state_label_encoded,test_teacher_prefix_label_encoded,test_grade_label_encoded,test_padded_clean_categories,\n",
    "        test_padded_clean_subcategories,X_test[\"price\"],X_test[\"teacher_number_of_previously_posted_projects\"],X_test['quantity'],\n",
    "        X_test['presence_of_number_in_description']]\n"
   ]
  },
  {
   "cell_type": "markdown",
   "metadata": {},
   "source": [
    "### 1.8 Training"
   ]
  },
  {
   "cell_type": "code",
   "execution_count": 131,
   "metadata": {},
   "outputs": [
    {
     "name": "stdout",
     "output_type": "stream",
     "text": [
      "WARNING:tensorflow:`period` argument is deprecated. Please use `save_freq` to specify the frequency in number of samples seen.\n",
      "WARNING:tensorflow:Falling back from v2 loop because of error: Failed to find data adapter that can handle input: (<class 'list'> containing values of types {\"<class 'pandas.core.series.Series'>\", \"<class 'numpy.ndarray'>\"}), <class 'NoneType'>\n",
      "Train on 69918 samples, validate on 21850 samples\n",
      "Epoch 1/150\n",
      "69918/69918 - 41s - loss: 0.5123 - auroc: 0.5433 - val_loss: 0.4207 - val_auroc: 0.6446\n",
      "Epoch 2/150\n",
      "69918/69918 - 40s - loss: 0.4089 - auroc: 0.6537 - val_loss: 0.3991 - val_auroc: 0.7131\n",
      "Epoch 3/150\n",
      "69918/69918 - 40s - loss: 0.3874 - auroc: 0.7155 - val_loss: 0.3858 - val_auroc: 0.7398\n",
      "Epoch 4/150\n",
      "69918/69918 - 40s - loss: 0.3853 - auroc: 0.7225 - val_loss: 0.3714 - val_auroc: 0.7487\n",
      "Epoch 5/150\n",
      "69918/69918 - 40s - loss: 0.3769 - auroc: 0.7373 - val_loss: 0.3682 - val_auroc: 0.7547\n",
      "Epoch 6/150\n",
      "69918/69918 - 40s - loss: 0.3738 - auroc: 0.7444 - val_loss: 0.3660 - val_auroc: 0.7583\n",
      "Epoch 7/150\n",
      "69918/69918 - 40s - loss: 0.3686 - auroc: 0.7539 - val_loss: 0.3685 - val_auroc: 0.7484\n",
      "Epoch 8/150\n",
      "69918/69918 - 40s - loss: 0.3701 - auroc: 0.7527 - val_loss: 0.3720 - val_auroc: 0.7488\n",
      "Epoch 9/150\n",
      "69918/69918 - 40s - loss: 0.3705 - auroc: 0.7521 - val_loss: 0.3696 - val_auroc: 0.7685\n",
      "Epoch 10/150\n",
      "69918/69918 - 40s - loss: 0.3630 - auroc: 0.7665 - val_loss: 0.4154 - val_auroc: 0.6601\n",
      "Epoch 11/150\n",
      "69918/69918 - 40s - loss: 0.3624 - auroc: 0.7645 - val_loss: 0.3654 - val_auroc: 0.7672\n",
      "Epoch 12/150\n",
      "69918/69918 - 40s - loss: 0.3699 - auroc: 0.7517 - val_loss: 0.3657 - val_auroc: 0.7524\n",
      "Epoch 13/150\n",
      "69918/69918 - 40s - loss: 0.3618 - auroc: 0.7664 - val_loss: 0.3660 - val_auroc: 0.7685\n",
      "Epoch 14/150\n",
      "Restoring model weights from the end of the best epoch.\n",
      "69918/69918 - 40s - loss: 0.3572 - auroc: 0.7748 - val_loss: 0.3772 - val_auroc: 0.7682\n",
      "Epoch 00014: early stopping\n"
     ]
    },
    {
     "data": {
      "text/plain": [
       "<tensorflow.python.keras.callbacks.History at 0x2beb1940fc8>"
      ]
     },
     "execution_count": 131,
     "metadata": {},
     "output_type": "execute_result"
    }
   ],
   "source": [
    "# Traning using Model-1\n",
    "import math\n",
    "# defining custom ROC AUC for keras ,refer: https://stackoverflow.com/a/51734992\n",
    "from sklearn.metrics import roc_auc_score\n",
    "def auroc(y_true, y_pred):\n",
    "    return tf.compat.v1.py_func(roc_auc_score, (y_true, y_pred), tf.double)\n",
    "\n",
    "    \n",
    "# Checkpoint callbacks\n",
    "check_point = ModelCheckpoint(\n",
    "    filepath='weights.{epoch:02d}-{val_loss:.2f}.hdf5',\n",
    "    monitor='val_auroc',\n",
    "    verbose=1,\n",
    "    save_best_only=True,\n",
    "    save_weights_only=True,\n",
    "    mode='max',\n",
    "    period=5)\n",
    "\n",
    "\n",
    "# TensorBoard\n",
    "logs_base_dir = \".\\logs\"\n",
    "os.makedirs(logs_base_dir, exist_ok=True)\n",
    "logdir = os.path.join(logs_base_dir, datetime.datetime.now().strftime(\"%Y%m%d-%H%M%S\"))\n",
    "tensorboard_callback = TensorBoard(logdir)\n",
    "\n",
    "# Early Stopper callback\n",
    "e_stopper = tf.keras.callbacks.EarlyStopping(monitor='val_auroc',\n",
    "                              min_delta=0,\n",
    "                              patience=5,\n",
    "                              verbose=1, mode='max',restore_best_weights=True)\n",
    "\n",
    "adam=tf.keras.optimizers.Adam(learning_rate=0.001)\n",
    "Model1.compile(optimizer=adam, loss='binary_crossentropy', metrics=[auroc])\n",
    "Model1.fit(x=train, y=y_train\n",
    "           ,\n",
    "           batch_size=512,\n",
    "           epochs=150,\n",
    "           validation_data=(cv, y_cv),\n",
    "           callbacks=[check_point,tensorboard_callback,e_stopper],\n",
    "           verbose=2,                   \n",
    "           )"
   ]
  },
  {
   "cell_type": "markdown",
   "metadata": {},
   "source": [
    "### 1.9 Saving the weights and Evaluation"
   ]
  },
  {
   "cell_type": "code",
   "execution_count": 65,
   "metadata": {},
   "outputs": [
    {
     "name": "stdout",
     "output_type": "stream",
     "text": [
      "Saved model to disk\n",
      "Loaded model from disk\n"
     ]
    }
   ],
   "source": [
    "# refer: https://machinelearningmastery.com/save-load-keras-deep-learning-models/\n",
    "\n",
    "# Saving the model weights\n",
    "Model1.save_weights(\"model.h5\")\n",
    "print(\"Saved model to disk\")\n",
    "\n",
    "# Loading Model and weights\n",
    "Model1.compile(optimizer='adam', loss='categorical_crossentropy', metrics=[auroc])\n",
    "Model1.load_weights(\"model.h5\")\n",
    "print(\"Loaded model from disk\")"
   ]
  },
  {
   "cell_type": "markdown",
   "metadata": {},
   "source": [
    "#### Evalution using keras custom roc auc"
   ]
  },
  {
   "cell_type": "code",
   "execution_count": 70,
   "metadata": {},
   "outputs": [
    {
     "name": "stdout",
     "output_type": "stream",
     "text": [
      "WARNING:tensorflow:Falling back from v2 loop because of error: Failed to find data adapter that can handle input: (<class 'list'> containing values of types {\"<class 'pandas.core.series.Series'>\", \"<class 'numpy.ndarray'>\"}), <class 'NoneType'>\n",
      "69918/69918 - 20s - loss: 0.3400 - auroc: 0.8068\n",
      "train auroc:  0.806824803352356\n",
      "\n",
      "WARNING:tensorflow:Falling back from v2 loop because of error: Failed to find data adapter that can handle input: (<class 'list'> containing values of types {\"<class 'pandas.core.series.Series'>\", \"<class 'numpy.ndarray'>\"}), <class 'NoneType'>\n",
      "21850/21850 - 6s - loss: 0.3604 - auroc: 0.7674\n",
      "cv auroc:  0.7673921585083008\n",
      "\n",
      "WARNING:tensorflow:Falling back from v2 loop because of error: Failed to find data adapter that can handle input: (<class 'list'> containing values of types {\"<class 'pandas.core.series.Series'>\", \"<class 'numpy.ndarray'>\"}), <class 'NoneType'>\n",
      "17480/17480 - 5s - loss: 0.3680 - auroc: 0.7582\n",
      "test auroc:  0.7582385540008545\n",
      "\n"
     ]
    }
   ],
   "source": [
    "# evaluate loaded model on test data   \n",
    "train_score = Model1.evaluate(train,y_train, verbose=2,batch_size=(128))\n",
    "print(f\"train {Model1.metrics_names[1]}:  {train_score[1]}\\n\")\n",
    "\n",
    "cv_score = Model1.evaluate(cv,y_cv, verbose=2,batch_size=(128))\n",
    "print(f\"cv {Model1.metrics_names[1]}:  {cv_score[1]}\\n\")\n",
    "\n",
    "test_score = Model1.evaluate(test,y_test, verbose=2,batch_size=(128))\n",
    "print(f\"test {Model1.metrics_names[1]}:  {test_score[1]}\\n\")"
   ]
  },
  {
   "cell_type": "markdown",
   "metadata": {},
   "source": [
    "#### Evalution using direct sklearn roc auc"
   ]
  },
  {
   "cell_type": "code",
   "execution_count": 73,
   "metadata": {},
   "outputs": [
    {
     "name": "stdout",
     "output_type": "stream",
     "text": [
      "WARNING:tensorflow:Falling back from v2 loop because of error: Failed to find data adapter that can handle input: (<class 'list'> containing values of types {\"<class 'pandas.core.series.Series'>\", \"<class 'numpy.ndarray'>\"}), <class 'NoneType'>\n",
      "Train auroc:  0.7802033800143382\n",
      "\n",
      "WARNING:tensorflow:Falling back from v2 loop because of error: Failed to find data adapter that can handle input: (<class 'list'> containing values of types {\"<class 'pandas.core.series.Series'>\", \"<class 'numpy.ndarray'>\"}), <class 'NoneType'>\n",
      "Cv auroc:  0.75785627224937\n",
      "\n",
      "WARNING:tensorflow:Falling back from v2 loop because of error: Failed to find data adapter that can handle input: (<class 'list'> containing values of types {\"<class 'pandas.core.series.Series'>\", \"<class 'numpy.ndarray'>\"}), <class 'NoneType'>\n",
      "test auroc:  0.7507350471186969\n",
      "\n"
     ]
    }
   ],
   "source": [
    "# Function to calculate Sklearn ROC AUc\n",
    "def sklearn_roc(actual_values,predicted_values):\n",
    "    \n",
    "    y_pred =(np.argmax(np.array(predicted_values), axis=1))\n",
    "    y_true = (np.argmax(np.array(actual_values), axis=1))\n",
    "    return roc_auc_score(y_pred,y_true)\n",
    "\n",
    "\n",
    "# sklearn ROC AUC\n",
    "train_score = Model1.predict(train)\n",
    "print(f\"Train {Model1.metrics_names[1]}:  {sklearn_roc(y_train,train_score)}\\n\")\n",
    "\n",
    "cv_score = Model1.predict(cv)\n",
    "print(f\"Cv {Model1.metrics_names[1]}:  {sklearn_roc(y_cv,cv_score)}\\n\")\n",
    "\n",
    "test_score = Model1.predict(test)\n",
    "print(f\"test {Model1.metrics_names[1]}:  {sklearn_roc(y_test,test_score)}\\n\")\n"
   ]
  },
  {
   "cell_type": "markdown",
   "metadata": {},
   "source": [
    "\n"
   ]
  },
  {
   "cell_type": "markdown",
   "metadata": {},
   "source": [
    "# 2. Training Using Model -2"
   ]
  },
  {
   "cell_type": "markdown",
   "metadata": {},
   "source": [
    "Use the same model as above but for 'input_seq_total_text_data' give only some words in the sentance not all the words. Filter the words as below. "
   ]
  },
  {
   "cell_type": "markdown",
   "metadata": {},
   "source": [
    "<pre>\n",
    "1. Train the TF-IDF on the Train data <br>\n",
    "2. Get the idf value for each word we have in the train data. <br>\n",
    "3. Remove the low idf value and high idf value words from our data. Do some analysis on the Idf values and based on those values choose the low and high threshold value. Because very frequent words and very very rare words don't give much information. (you can plot a box plots and take only the idf scores within IQR range and corresponding words)<br>\n",
    "4. Train the LSTM after removing the Low and High idf value words. (In model-1 Train on total data but in Model-2 train on data after removing some words based on IDF values)\n",
    "</pre>"
   ]
  },
  {
   "cell_type": "markdown",
   "metadata": {},
   "source": [
    "### 2.1 Training TFIDF on train essay data"
   ]
  },
  {
   "cell_type": "code",
   "execution_count": 77,
   "metadata": {},
   "outputs": [
    {
     "data": {
      "text/plain": [
       "<69918x47405 sparse matrix of type '<class 'numpy.float64'>'\n",
       "\twith 7549633 stored elements in Compressed Sparse Row format>"
      ]
     },
     "execution_count": 77,
     "metadata": {},
     "output_type": "execute_result"
    }
   ],
   "source": [
    "from sklearn.feature_extraction.text import TfidfVectorizer\n",
    "\n",
    "tf_vect = TfidfVectorizer()\n",
    "tf_vect.fit_transform(X_train.essay)"
   ]
  },
  {
   "cell_type": "markdown",
   "metadata": {},
   "source": [
    "### 2.2 BOX plot of IDF scores\n"
   ]
  },
  {
   "cell_type": "code",
   "execution_count": 78,
   "metadata": {},
   "outputs": [
    {
     "data": {
      "image/png": "[encoded data removed]",
      "text/plain": [
       "<Figure size 648x288 with 1 Axes>"
      ]
     },
     "metadata": {
      "needs_background": "light"
     },
     "output_type": "display_data"
    }
   ],
   "source": [
    "# IQR plot\n",
    "plt.figure(figsize=(9,4))\n",
    "sns.boxplot((tf_vect.idf_))\n",
    "plt.grid()\n",
    "plt.title(\"IQR plot of IDF score generated by TFIDF\\n\")\n",
    "plt.show()"
   ]
  },
  {
   "cell_type": "code",
   "execution_count": 79,
   "metadata": {},
   "outputs": [
    {
     "name": "stdout",
     "output_type": "stream",
     "text": [
      "0th percentile: 1.0077820287056232\n",
      "25th percentile: 9.447042507065435\n",
      "50th percentile: 11.056480419499536\n",
      "75th percentile: 11.4619455276077\n",
      "100th percentile: 11.4619455276077\n"
     ]
    }
   ],
   "source": [
    "# 0th , 25th , 50th , 75th , 100th pecentile\n",
    "for i in range(0,101,25):\n",
    "    print(f\"{i}th percentile: {np.percentile(tf_vect.idf_,i)}\")"
   ]
  },
  {
   "cell_type": "code",
   "execution_count": 80,
   "metadata": {},
   "outputs": [
    {
     "data": {
      "image/png": "[encoded data removed]",
      "text/plain": [
       "<Figure size 648x360 with 1 Axes>"
      ]
     },
     "metadata": {
      "needs_background": "light"
     },
     "output_type": "display_data"
    }
   ],
   "source": [
    "# CDF OF IQR \n",
    "plt.figure(figsize=(9,5))\n",
    "plt.plot(sorted(tf_vect.idf_),(np.arange(len(tf_vect.idf_))/len(tf_vect.idf_)),)\n",
    "plt.grid()\n",
    "plt.show()"
   ]
  },
  {
   "cell_type": "markdown",
   "metadata": {},
   "source": [
    "### 2.3 Removing words with low and high IDF score and choosing vocabulary of IQR range of IDF scorw"
   ]
  },
  {
   "cell_type": "code",
   "execution_count": 81,
   "metadata": {},
   "outputs": [
    {
     "name": "stdout",
     "output_type": "stream",
     "text": [
      "Length of vocab Before removing words:  47442\n",
      "\n",
      "Length of vocab after removing words:  28855\n"
     ]
    }
   ],
   "source": [
    "# Getting index of vocabulary of IQR range IDF\n",
    "top_vocab_idx = np.where(tf_vect.idf_>9.44) and  np.where(tf_vect.idf_<11.46)\n",
    "\n",
    "# Selection of vocabulary\n",
    "tfidf_vocab = np.array(tf_vect.get_feature_names())\n",
    "\n",
    "# Final selected vocabulary\n",
    "selected_vocab = tfidf_vocab[top_vocab_idx]\n",
    "\n",
    "print(\"Length of vocab Before removing words: \",(vocab_size_essay))\n",
    "print(\"\\nLength of vocab after removing words: \",len(selected_vocab))"
   ]
  },
  {
   "cell_type": "markdown",
   "metadata": {},
   "source": [
    "### 2.4.preparing essay feature using optimal tf_idf scores"
   ]
  },
  {
   "cell_type": "code",
   "execution_count": 82,
   "metadata": {},
   "outputs": [
    {
     "name": "stderr",
     "output_type": "stream",
     "text": [
      "IOPub data rate exceeded.\n",
      "The notebook server will temporarily stop sending output\n",
      "to the client in order to avoid crashing it.\n",
      "To change this limit, set the config variable\n",
      "`--NotebookApp.iopub_data_rate_limit`.\n",
      "\n",
      "Current values:\n",
      "NotebookApp.iopub_data_rate_limit=1000000.0 (bytes/sec)\n",
      "NotebookApp.rate_limit_window=3.0 (secs)\n",
      "\n"
     ]
    },
    {
     "name": "stdout",
     "output_type": "stream",
     "text": [
      "\n",
      "[[ 8339  6837 15135 ...     0     0     0]\n",
      " [ 2124 24805 10180 ...     0     0     0]\n",
      " [17023 24805 26643 ...     0     0     0]\n",
      " ...\n",
      " [ 1350 25553 15297 ...     0     0     0]\n",
      " [17023 14432 27894 ...     0     0     0]\n",
      " [19341 28530 18173 ...     0     0     0]]\n"
     ]
    }
   ],
   "source": [
    "# refer: https://machinelearningmastery.com/use-word-embedding-layers-deep-learning-keras/\n",
    "\n",
    "# define documents\n",
    "train_essay = X_train.essay\n",
    "cv_essay = X_cv.essay\n",
    "test_essay = X_test.essay\n",
    "\n",
    "# prepare tokenizer\n",
    "t = Tokenizer()\n",
    "t.fit_on_texts(selected_vocab)   ## Using selected words in vocubuary based on IDF score generated by TFIDF vectoriser\n",
    "vocab_size_essay_selected_idf = len(t.word_index) + 1\n",
    "# integer encode the documents\n",
    "train_encoded_essay_selected_idf = t.texts_to_sequences(train_essay)\n",
    "cv_encoded_essay_selected_idf = t.texts_to_sequences(cv_essay)\n",
    "test_encoded_essay_selected_idf = t.texts_to_sequences(test_essay)\n",
    "print(train_encoded_essay_selected_idf)\n",
    "\n",
    "\n",
    "# pad documents to a max length of words :339 in our case\n",
    "max_length = max_len_of_sent\n",
    "train_padded_essay_selected_idf = pad_sequences(train_encoded_essay_selected_idf, maxlen=max_length, padding='post')\n",
    "cv_padded_essay_selected_idf = pad_sequences(cv_encoded_essay_selected_idf, maxlen=max_length, padding='post')\n",
    "test_padded_essay_selected_idf = pad_sequences(test_encoded_essay_selected_idf, maxlen=max_length, padding='post')\n",
    "print(train_padded_essay_selected_idf)\n"
   ]
  },
  {
   "cell_type": "code",
   "execution_count": 83,
   "metadata": {},
   "outputs": [
    {
     "data": {
      "text/plain": [
       "\"# load the whole embedding into memory\\nembeddings_index = dict()\\nf = open('glove.42B.300d.txt',encoding='utf-8')\\nfor line in f:\\n    values = line.split()\\n    word = values[0]\\n    coefs = asarray(values[1:], dtype='float32')\\n    embeddings_index[word] = coefs\\nf.close()\\n\\n\\nprint('Loaded %s word vectors.' % len(embeddings_index))\\n# create a weight matrix for words in training docs\\nnew_embedding_matrix = zeros((vocab_size_essay_selected_idf, 300))\\nfor word, i in t.word_index.items():\\n    embedding_vector = embeddings_index.get(word)\\n    if embedding_vector is not None:\\n        new_embedding_matrix[i] = embedding_vector\""
      ]
     },
     "execution_count": 83,
     "metadata": {},
     "output_type": "execute_result"
    }
   ],
   "source": [
    "\"\"\"# load the whole embedding into memory\n",
    "embeddings_index = dict()\n",
    "f = open('glove.42B.300d.txt',encoding='utf-8')\n",
    "for line in f:\n",
    "    values = line.split()\n",
    "    word = values[0]\n",
    "    coefs = asarray(values[1:], dtype='float32')\n",
    "    embeddings_index[word] = coefs\n",
    "f.close()\n",
    "\n",
    "\n",
    "print('Loaded %s word vectors.' % len(embeddings_index))\n",
    "# create a weight matrix for words in training docs\n",
    "new_embedding_matrix = zeros((vocab_size_essay_selected_idf, 300))\n",
    "for word, i in t.word_index.items():\n",
    "    embedding_vector = embeddings_index.get(word)\n",
    "    if embedding_vector is not None:\n",
    "        new_embedding_matrix[i] = embedding_vector\"\"\""
   ]
  },
  {
   "cell_type": "code",
   "execution_count": 84,
   "metadata": {},
   "outputs": [],
   "source": [
    "# Saving embedding matrix\n",
    "\"\"\"file = open(\"new_embedding_matrix\",'wb')\n",
    "np.save(file,new_embedding_matrix)\n",
    "file.close()\"\"\"\n",
    "\n",
    "with open(\"new_embedding_matrix\",'rb') as f:\n",
    "    new_embedding_matrix=np.load(f)"
   ]
  },
  {
   "cell_type": "markdown",
   "metadata": {},
   "source": [
    "### 2.5 Model-2 (same architecture as Model-1)"
   ]
  },
  {
   "cell_type": "code",
   "execution_count": 90,
   "metadata": {},
   "outputs": [],
   "source": [
    "#initialisation of vocab size and shapes of all input features\n",
    "\n",
    "# Vocab size of each feature for Embeding Layer\n",
    "vocab_size_essay_idf = len(selected_vocab)+1  # adding 1 for zero padding index\n",
    "category_vocab_size = category_vocab_size\n",
    "sub_category_vocab_size = sub_category_vocab_size\n",
    "train_school_state_label_encoded_vocab_size = len(np.unique(train_school_state_label_encoded))\n",
    "train_teacher_prefix_label_encoded_vocab_size = len(np.unique(train_teacher_prefix_label_encoded))\n",
    "train_grade_label_encoded_vocab_size = len(np.unique(train_grade_label_encoded))\n",
    "\n",
    "# shapes of input of each feaures for Input Layer\n",
    "train_padded_essay_shape_idf = train_padded_essay_selected_idf.shape\n",
    "train_school_state_label_encoded_shape = train_school_state_label_encoded.shape\n",
    "train_teacher_prefix_label_encoded_shape = train_teacher_prefix_label_encoded.shape\n",
    "train_grade_label_encoded_shape = train_grade_label_encoded.shape\n",
    "train_padded_clean_subcategories_shape = train_padded_clean_subcategories.shape\n",
    "train_padded_clean_categories_shape = train_padded_clean_categories.shape\n",
    "train_price_shape = X_train['price'].shape\n",
    "train_teacher_number_of_previously_posted_projects_shape = X_train[\"teacher_number_of_previously_posted_projects\"].shape"
   ]
  },
  {
   "cell_type": "code",
   "execution_count": 91,
   "metadata": {},
   "outputs": [
    {
     "name": "stdout",
     "output_type": "stream",
     "text": [
      "Model: \"model\"\n",
      "__________________________________________________________________________________________________\n",
      "Layer (type)                    Output Shape         Param #     Connected to                     \n",
      "==================================================================================================\n",
      "essay_input (InputLayer)        [(None, 331)]        0                                            \n",
      "__________________________________________________________________________________________________\n",
      "embedding (Embedding)           (None, 331, 300)     8656800     essay_input[0][0]                \n",
      "__________________________________________________________________________________________________\n",
      "school_state_input (InputLayer) [(None, 1)]          0                                            \n",
      "__________________________________________________________________________________________________\n",
      "teacher_prefix (InputLayer)     [(None, 1)]          0                                            \n",
      "__________________________________________________________________________________________________\n",
      "project_grade_category (InputLa [(None, 1)]          0                                            \n",
      "__________________________________________________________________________________________________\n",
      "clean_categories (InputLayer)   [(None, 3)]          0                                            \n",
      "__________________________________________________________________________________________________\n",
      "price (InputLayer)              [(None, 1)]          0                                            \n",
      "__________________________________________________________________________________________________\n",
      "teacher_number_of_previously_po [(None, 1)]          0                                            \n",
      "__________________________________________________________________________________________________\n",
      "quantity (InputLayer)           [(None, 1)]          0                                            \n",
      "__________________________________________________________________________________________________\n",
      "presence_of_num (InputLayer)    [(None, 1)]          0                                            \n",
      "__________________________________________________________________________________________________\n",
      "lstm (LSTM)                     (None, 331, 64)      93440       embedding[0][0]                  \n",
      "__________________________________________________________________________________________________\n",
      "embedding_1 (Embedding)         (None, 1, 50)        2550        school_state_input[0][0]         \n",
      "__________________________________________________________________________________________________\n",
      "embedding_2 (Embedding)         (None, 1, 50)        2550        teacher_prefix[0][0]             \n",
      "__________________________________________________________________________________________________\n",
      "embedding_3 (Embedding)         (None, 1, 50)        200         project_grade_category[0][0]     \n",
      "__________________________________________________________________________________________________\n",
      "embedding_4 (Embedding)         (None, 3, 50)        500         clean_categories[0][0]           \n",
      "__________________________________________________________________________________________________\n",
      "concat_input7_input8 (Concatena (None, 4)            0           price[0][0]                      \n",
      "                                                                 teacher_number_of_previously_post\n",
      "                                                                 quantity[0][0]                   \n",
      "                                                                 presence_of_num[0][0]            \n",
      "__________________________________________________________________________________________________\n",
      "flatten (Flatten)               (None, 21184)        0           lstm[0][0]                       \n",
      "__________________________________________________________________________________________________\n",
      "flatten_1 (Flatten)             (None, 50)           0           embedding_1[0][0]                \n",
      "__________________________________________________________________________________________________\n",
      "flatten_2 (Flatten)             (None, 50)           0           embedding_2[0][0]                \n",
      "__________________________________________________________________________________________________\n",
      "flatten_3 (Flatten)             (None, 50)           0           embedding_3[0][0]                \n",
      "__________________________________________________________________________________________________\n",
      "flatten_4 (Flatten)             (None, 150)          0           embedding_4[0][0]                \n",
      "__________________________________________________________________________________________________\n",
      "dense (Dense)                   (None, 32)           160         concat_input7_input8[0][0]       \n",
      "__________________________________________________________________________________________________\n",
      "concat_all_output (Concatenate) (None, 21516)        0           flatten[0][0]                    \n",
      "                                                                 flatten_1[0][0]                  \n",
      "                                                                 flatten_2[0][0]                  \n",
      "                                                                 flatten_3[0][0]                  \n",
      "                                                                 flatten_4[0][0]                  \n",
      "                                                                 dense[0][0]                      \n",
      "__________________________________________________________________________________________________\n",
      "dense_1 (Dense)                 (None, 128)          2754176     concat_all_output[0][0]          \n",
      "__________________________________________________________________________________________________\n",
      "dropout (Dropout)               (None, 128)          0           dense_1[0][0]                    \n",
      "__________________________________________________________________________________________________\n",
      "batch_normalization (BatchNorma (None, 128)          512         dropout[0][0]                    \n",
      "__________________________________________________________________________________________________\n",
      "dense_2 (Dense)                 (None, 128)          16512       batch_normalization[0][0]        \n",
      "__________________________________________________________________________________________________\n",
      "dropout_1 (Dropout)             (None, 128)          0           dense_2[0][0]                    \n",
      "__________________________________________________________________________________________________\n",
      "batch_normalization_1 (BatchNor (None, 128)          512         dropout_1[0][0]                  \n",
      "__________________________________________________________________________________________________\n",
      "dense_3 (Dense)                 (None, 64)           8256        batch_normalization_1[0][0]      \n",
      "__________________________________________________________________________________________________\n",
      "dropout_2 (Dropout)             (None, 64)           0           dense_3[0][0]                    \n",
      "__________________________________________________________________________________________________\n",
      "clean_subcategories (InputLayer [(None, 3)]          0                                            \n",
      "__________________________________________________________________________________________________\n",
      "output_layer (Dense)            (None, 2)            130         dropout_2[0][0]                  \n",
      "==================================================================================================\n",
      "Total params: 11,536,298\n",
      "Trainable params: 2,878,986\n",
      "Non-trainable params: 8,657,312\n",
      "__________________________________________________________________________________________________\n",
      "None\n"
     ]
    }
   ],
   "source": [
    "# Model 2 using Keras Functional Api\n",
    "\n",
    "tf.keras.backend.clear_session()\n",
    "\n",
    "# Eaasy\n",
    "input1= Input(shape=(train_padded_essay_shape_idf[1],) ,name='essay_input' )\n",
    "\n",
    "# Essay embed layer using pretrained Glove embedings of 300 dim\n",
    "Embeded_layer1 = Embedding(vocab_size_essay_idf, output_dim=300, weights=[new_embedding_matrix], input_length=339, trainable=False)(input1)\n",
    "# Lstm layer for essay\n",
    "lstm_layer1 = layers.LSTM(units=64,return_sequences=True)(Embeded_layer1)\n",
    "flatten1 = Flatten()(lstm_layer1)\n",
    "\n",
    "# school state\n",
    "input2= Input(shape=(train_school_state_label_encoded_shape[1],) ,name='school_state_input')\n",
    "Embeded_layer2= Embedding(train_school_state_label_encoded_vocab_size, output_dim=50, input_length=1)(input2)\n",
    "flatten2 = Flatten()(Embeded_layer2)\n",
    "\n",
    "# teacher_prefix\n",
    "input3= Input(shape=(train_teacher_prefix_label_encoded_shape[1],) ,name='teacher_prefix')\n",
    "Embeded_layer3= Embedding(train_school_state_label_encoded_vocab_size, output_dim=50, input_length=1)(input3)\n",
    "flatten3 = Flatten()(Embeded_layer3)\n",
    "\n",
    "# project_grade_category\n",
    "input4= Input(shape=(train_grade_label_encoded_shape[1],) ,name='project_grade_category')\n",
    "Embeded_layer4 = Embedding(train_grade_label_encoded_vocab_size, output_dim=50, input_length=1)(input4)\n",
    "flatten4 = Flatten()(Embeded_layer4)\n",
    "\n",
    "# clean_subcategories\n",
    "input5= Input(shape=(train_padded_clean_categories_shape[1],) ,name='clean_categories')\n",
    "Embeded_layer5 = Embedding(category_vocab_size, output_dim=50, input_length=664)(input5)\n",
    "flatten5 = Flatten()(Embeded_layer5)\n",
    "\n",
    "# clean_subcategories\n",
    "input6= Input(shape=(train_padded_clean_subcategories_shape[1],) ,name='clean_subcategories')\n",
    "Embeded_layer6 = Embedding(sub_category_vocab_size, output_dim=50, input_length=3)(input6)\n",
    "flatten6 = Flatten()(Embeded_layer6)\n",
    "\n",
    "input7 = Input(shape=(1,) ,name='price')\n",
    "input8 = Input(shape=(1,) ,name='teacher_number_of_previously_posted_projects')\n",
    "input9 = Input(shape=(1,) ,name='quantity')\n",
    "input10 = Input(shape=(1,) ,name='presence_of_num')\n",
    "\n",
    "concat_input_7_8_9_10 = concatenate([input7,input8,input9,input10], name='concat_input7_input8')\n",
    "dense1 = Dense(32,activation='relu',kernel_initializer='he_uniform')(concat_input_7_8_9_10)\n",
    "\n",
    "# Concatenation of all output of previous layers\n",
    "concatenate2 = concatenate([flatten1,flatten2,flatten3,flatten4,flatten5,dense1], name=\"concat_all_output\")\n",
    "\n",
    "# Dense layer 2 after concatenation of all output\n",
    "dense_layer2 = Dense(units=128 ,activation='relu' ,kernel_initializer='he_uniform')(concatenate2)\n",
    "dropout1=Dropout(rate=0.2)(dense_layer2)\n",
    "batch_normalize1 = layers.BatchNormalization()(dropout1)\n",
    "\n",
    "\n",
    "# Dense layer 3 after concatenation of all output\n",
    "dense_layer3 = Dense(units=128 ,activation='relu' ,kernel_initializer='he_uniform')(batch_normalize1)\n",
    "dropout2 = Dropout(rate=0.2)(dense_layer3)\n",
    "batch_normalize2=layers.BatchNormalization()(dropout2)\n",
    "\n",
    "\n",
    "# Dense layer 3 after concatenation of all output\n",
    "dense_layer4 = Dense(units=64 ,activation='relu' ,kernel_initializer='he_uniform')(batch_normalize2)\n",
    "dropout2 = Dropout(rate=0.2)(dense_layer4)\n",
    "\n",
    "#output\n",
    "output = Dense(units=2 ,activation='softmax' ,kernel_initializer='glorot_uniform', name=\"output_layer\")(dropout2)\n",
    "\n",
    "Model2 = Model(inputs=[input1,input2,input3,input4,input5,input6,input7,input8,input9,input10], outputs=output)\n",
    "print(Model2.summary())\n"
   ]
  },
  {
   "cell_type": "code",
   "execution_count": 92,
   "metadata": {},
   "outputs": [],
   "source": [
    "\n",
    "train=[train_padded_essay_selected_idf,train_school_state_label_encoded,train_teacher_prefix_label_encoded,train_grade_label_encoded,train_padded_clean_categories,\n",
    "       train_padded_clean_subcategories,X_train[\"price\"],X_train[\"teacher_number_of_previously_posted_projects\"],X_train['quantity'],\n",
    "       X_train['presence_of_number_in_description']]\n",
    "\n",
    "cv = [cv_padded_essay_selected_idf,cv_school_state_label_encoded,cv_teacher_prefix_label_encoded,cv_grade_label_encoded,cv_padded_clean_categories,\n",
    "      cv_padded_clean_subcategories,X_cv[\"price\"],X_cv[\"teacher_number_of_previously_posted_projects\"],X_cv['quantity'],\n",
    "      X_cv['presence_of_number_in_description']]\n",
    "\n",
    "test = [test_padded_essay_selected_idf,test_school_state_label_encoded,test_teacher_prefix_label_encoded,test_grade_label_encoded,test_padded_clean_categories,\n",
    "        test_padded_clean_subcategories,X_test[\"price\"],X_test[\"teacher_number_of_previously_posted_projects\"],X_test['quantity'],\n",
    "        X_test['presence_of_number_in_description']]\n"
   ]
  },
  {
   "cell_type": "markdown",
   "metadata": {},
   "source": [
    "### 2.6 Traning"
   ]
  },
  {
   "cell_type": "code",
   "execution_count": 93,
   "metadata": {},
   "outputs": [
    {
     "name": "stdout",
     "output_type": "stream",
     "text": [
      "WARNING:tensorflow:`period` argument is deprecated. Please use `save_freq` to specify the frequency in number of samples seen.\n",
      "WARNING:tensorflow:Falling back from v2 loop because of error: Failed to find data adapter that can handle input: (<class 'list'> containing values of types {\"<class 'pandas.core.series.Series'>\", \"<class 'numpy.ndarray'>\"}), <class 'NoneType'>\n",
      "Train on 69918 samples, validate on 21850 samples\n",
      "Epoch 1/150\n",
      "69918/69918 - 29s - loss: 0.4489 - auroc: 0.6156 - val_loss: 0.3945 - val_auroc: 0.7125\n",
      "Epoch 2/150\n",
      "69918/69918 - 28s - loss: 0.3852 - auroc: 0.7236 - val_loss: 0.3788 - val_auroc: 0.7520\n",
      "Epoch 3/150\n",
      "69918/69918 - 28s - loss: 0.3709 - auroc: 0.7493 - val_loss: 0.3652 - val_auroc: 0.7576\n",
      "Epoch 4/150\n",
      "69918/69918 - 28s - loss: 0.3637 - auroc: 0.7619 - val_loss: 0.3660 - val_auroc: 0.7526\n",
      "Epoch 5/150\n",
      "69918/69918 - 28s - loss: 0.3580 - auroc: 0.7725 - val_loss: 0.3583 - val_auroc: 0.7666\n",
      "Epoch 6/150\n",
      "69918/69918 - 28s - loss: 0.3509 - auroc: 0.7846 - val_loss: 0.3643 - val_auroc: 0.7704\n",
      "Epoch 7/150\n",
      "69918/69918 - 28s - loss: 0.3405 - auroc: 0.8012 - val_loss: 0.3626 - val_auroc: 0.7607\n",
      "Epoch 8/150\n",
      "69918/69918 - 28s - loss: 0.3295 - auroc: 0.8173 - val_loss: 0.3729 - val_auroc: 0.7560\n",
      "Epoch 9/150\n",
      "69918/69918 - 28s - loss: 0.3121 - auroc: 0.8388 - val_loss: 0.3744 - val_auroc: 0.7464\n",
      "Epoch 10/150\n",
      "\n",
      "Epoch 00010: val_auroc improved from -inf to 0.73852, saving model to weights.10-0.41.hdf5\n",
      "69918/69918 - 28s - loss: 0.2875 - auroc: 0.8674 - val_loss: 0.4132 - val_auroc: 0.7385\n",
      "Epoch 11/150\n",
      "69918/69918 - 28s - loss: 0.2570 - auroc: 0.8978 - val_loss: 0.4553 - val_auroc: 0.7157\n",
      "Epoch 12/150\n",
      "69918/69918 - 28s - loss: 0.2240 - auroc: 0.9230 - val_loss: 0.4668 - val_auroc: 0.7178\n",
      "Epoch 13/150\n",
      "69918/69918 - 28s - loss: 0.1894 - auroc: 0.9461 - val_loss: 0.5379 - val_auroc: 0.7097\n",
      "Epoch 14/150\n",
      "69918/69918 - 28s - loss: 0.1587 - auroc: 0.9636 - val_loss: 0.5945 - val_auroc: 0.6796\n",
      "Epoch 15/150\n",
      "69918/69918 - 28s - loss: 0.1321 - auroc: 0.9758 - val_loss: 0.6302 - val_auroc: 0.6949\n",
      "Epoch 16/150\n",
      "Restoring model weights from the end of the best epoch.\n",
      "69918/69918 - 28s - loss: 0.1090 - auroc: 0.9836 - val_loss: 0.7054 - val_auroc: 0.6959\n",
      "Epoch 00016: early stopping\n"
     ]
    },
    {
     "data": {
      "text/plain": [
       "<tensorflow.python.keras.callbacks.History at 0x2bea0e9f048>"
      ]
     },
     "execution_count": 93,
     "metadata": {},
     "output_type": "execute_result"
    }
   ],
   "source": [
    "# Traning using Model-2\n",
    "    \n",
    "# defining custom ROC AUC for keras ,refer: https://stackoverflow.com/a/51734992\n",
    "from sklearn.metrics import roc_auc_score\n",
    "def auroc(y_true, y_pred):\n",
    "    return tf.compat.v1.py_func(roc_auc_score, (y_true, y_pred), tf.double)\n",
    "\n",
    "# Checkpoint callbacks\n",
    "check_point = ModelCheckpoint(\n",
    "    filepath='weights.{epoch:02d}-{val_loss:.2f}.hdf5',\n",
    "    monitor='val_auroc',\n",
    "    verbose=1,\n",
    "    save_best_only=True,\n",
    "    save_weights_only=True,\n",
    "    mode='max',\n",
    "    period=10)\n",
    "\n",
    "# Load the TensorBoard notebook extension\n",
    "logs_base_dir = \".\\logs\"\n",
    "os.makedirs(logs_base_dir, exist_ok=True)\n",
    "logdir = os.path.join(logs_base_dir, datetime.datetime.now().strftime(\"%Y%m%d-%H%M%S\"))\n",
    "tensorboard_callback = TensorBoard(logdir)\n",
    "\n",
    "# Early Stopper callback\n",
    "e_stopper = tf.keras.callbacks.EarlyStopping(monitor='val_auroc',\n",
    "                              min_delta=0,\n",
    "                              patience=10,\n",
    "                              verbose=1, mode='max',restore_best_weights=True)\n",
    "\n",
    "Model2.compile(optimizer='adam', loss='categorical_crossentropy', metrics=[auroc])\n",
    "Model2.fit(x=train, y=y_train,\n",
    "           batch_size=128,\n",
    "           epochs=150,\n",
    "           validation_data=(cv, y_cv),\n",
    "           callbacks=[check_point,tensorboard_callback,e_stopper],\n",
    "           verbose=2,                   \n",
    "           )"
   ]
  },
  {
   "cell_type": "markdown",
   "metadata": {},
   "source": [
    "### 2.7 Saving the weights and Evaluation"
   ]
  },
  {
   "cell_type": "code",
   "execution_count": 94,
   "metadata": {},
   "outputs": [
    {
     "name": "stdout",
     "output_type": "stream",
     "text": [
      "Saved model to disk\n",
      "Loaded model from disk\n"
     ]
    }
   ],
   "source": [
    "# refer: https://machinelearningmastery.com/save-load-keras-deep-learning-models/\n",
    "\n",
    "# Saving the model weights\n",
    "Model2.save_weights(\"model2.h5\")\n",
    "print(\"Saved model to disk\")\n",
    "\n",
    "# Loading Model and weights\n",
    "Model2.compile(optimizer='adam', loss='categorical_crossentropy', metrics=[auroc])\n",
    "Model2.load_weights(\"model2.h5\")\n",
    "print(\"Loaded model from disk\")"
   ]
  },
  {
   "cell_type": "markdown",
   "metadata": {},
   "source": [
    "#### Evalution using keras custom roc auc"
   ]
  },
  {
   "cell_type": "code",
   "execution_count": 95,
   "metadata": {},
   "outputs": [
    {
     "name": "stdout",
     "output_type": "stream",
     "text": [
      "WARNING:tensorflow:Falling back from v2 loop because of error: Failed to find data adapter that can handle input: (<class 'list'> containing values of types {\"<class 'pandas.core.series.Series'>\", \"<class 'numpy.ndarray'>\"}), <class 'NoneType'>\n",
      "69918/69918 - 17s - loss: 0.3425 - auroc: 0.8100\n",
      "train auroc:  0.8099930882453918\n",
      "\n",
      "WARNING:tensorflow:Falling back from v2 loop because of error: Failed to find data adapter that can handle input: (<class 'list'> containing values of types {\"<class 'pandas.core.series.Series'>\", \"<class 'numpy.ndarray'>\"}), <class 'NoneType'>\n",
      "21850/21850 - 5s - loss: 0.3643 - auroc: 0.7715\n",
      "cv auroc:  0.7715215682983398\n",
      "\n",
      "WARNING:tensorflow:Falling back from v2 loop because of error: Failed to find data adapter that can handle input: (<class 'list'> containing values of types {\"<class 'pandas.core.series.Series'>\", \"<class 'numpy.ndarray'>\"}), <class 'NoneType'>\n",
      "17480/17480 - 4s - loss: 0.3690 - auroc: 0.7659\n",
      "test auroc:  0.7659369707107544\n",
      "\n"
     ]
    }
   ],
   "source": [
    "# evaluate loaded model on test data   \n",
    "train_score = Model2.evaluate(train,y_train, verbose=2,batch_size=(128))\n",
    "print(f\"train {Model2.metrics_names[1]}:  {train_score[1]}\\n\")\n",
    "\n",
    "cv_score = Model2.evaluate(cv,y_cv, verbose=2,batch_size=(128))\n",
    "print(f\"cv {Model2.metrics_names[1]}:  {cv_score[1]}\\n\")\n",
    "\n",
    "test_score = Model2.evaluate(test,y_test, verbose=2,batch_size=(128))\n",
    "print(f\"test {Model2.metrics_names[1]}:  {test_score[1]}\\n\")"
   ]
  },
  {
   "cell_type": "markdown",
   "metadata": {},
   "source": [
    "#### Evalution using direct sklearn roc auc"
   ]
  },
  {
   "cell_type": "code",
   "execution_count": 96,
   "metadata": {},
   "outputs": [
    {
     "name": "stdout",
     "output_type": "stream",
     "text": [
      "WARNING:tensorflow:Falling back from v2 loop because of error: Failed to find data adapter that can handle input: (<class 'list'> containing values of types {\"<class 'pandas.core.series.Series'>\", \"<class 'numpy.ndarray'>\"}), <class 'NoneType'>\n",
      "Train auroc:  0.7405537303896463\n",
      "\n",
      "WARNING:tensorflow:Falling back from v2 loop because of error: Failed to find data adapter that can handle input: (<class 'list'> containing values of types {\"<class 'pandas.core.series.Series'>\", \"<class 'numpy.ndarray'>\"}), <class 'NoneType'>\n",
      "Cv auroc:  0.7023508486906042\n",
      "\n",
      "WARNING:tensorflow:Falling back from v2 loop because of error: Failed to find data adapter that can handle input: (<class 'list'> containing values of types {\"<class 'pandas.core.series.Series'>\", \"<class 'numpy.ndarray'>\"}), <class 'NoneType'>\n",
      "test auroc:  0.7015559231611674\n",
      "\n"
     ]
    }
   ],
   "source": [
    "# sklearn ROC AUC\n",
    "train_score = Model2.predict(train)\n",
    "print(f\"Train {Model2.metrics_names[1]}:  {sklearn_roc(y_train,train_score)}\\n\")\n",
    "\n",
    "cv_score = Model2.predict(cv)\n",
    "print(f\"Cv {Model2.metrics_names[1]}:  {sklearn_roc(y_cv,cv_score)}\\n\")\n",
    "\n",
    "test_score = Model2.predict(test)\n",
    "print(f\"test {Model2.metrics_names[1]}:  {sklearn_roc(y_test,test_score)}\\n\")\n"
   ]
  },
  {
   "cell_type": "markdown",
   "metadata": {},
   "source": [
    "# 3. Model-3"
   ]
  },
  {
   "cell_type": "markdown",
   "metadata": {},
   "source": [
    "<img src='https://i.imgur.com/fkQ8nGo.png'>\n",
    "ref: https://i.imgur.com/fkQ8nGo.png"
   ]
  },
  {
   "cell_type": "markdown",
   "metadata": {},
   "source": [
    "\n",
    "- __input_seq_total_text_data__: <br>\n",
    "<pre>\n",
    "    . Use text column('essay'), and use the Embedding layer to get word vectors. <br>\n",
    "    . Use given predefined glove word vectors, don't train any word vectors. <br>\n",
    "    . Use LSTM that is given above, get the LSTM output and Flatten that output. <br>\n",
    "    . You are free to preprocess the input text as you needed. <br>\n",
    "</pre>\n",
    "- __Other_than_text_data__:<br>\n",
    "<pre>\n",
    "    . Convert all your Categorical values to onehot coded and then concatenate all these onehot vectors <br>\n",
    "    . Neumerical values and use <a href='https://keras.io/getting-started/sequential-model-guide/#sequence-classification-with-1d-convolutions'>CNN1D</a> as shown in above figure. <br>\n",
    "    . You are free to choose all CNN parameters like kernel sizes, stride.<br>\n",
    "    \n",
    "</pre>"
   ]
  },
  {
   "cell_type": "markdown",
   "metadata": {},
   "source": [
    "### 3.0 For Essay feature using the same embedding which is used in Model-2"
   ]
  },
  {
   "cell_type": "markdown",
   "metadata": {},
   "source": [
    "### 3.1. Preparing school_state data for training "
   ]
  },
  {
   "cell_type": "code",
   "execution_count": 97,
   "metadata": {},
   "outputs": [
    {
     "name": "stdout",
     "output_type": "stream",
     "text": [
      "number of Unique categories in School State feature : 51\n",
      "[[0. 0. 0. ... 0. 0. 0.]\n",
      " [0. 0. 0. ... 0. 0. 0.]\n",
      " [0. 0. 0. ... 0. 0. 0.]\n",
      " ...\n",
      " [0. 0. 0. ... 0. 0. 0.]\n",
      " [0. 0. 0. ... 0. 0. 0.]\n",
      " [0. 0. 0. ... 0. 0. 0.]]\n"
     ]
    }
   ],
   "source": [
    "from sklearn.preprocessing import OneHotEncoder\n",
    "ohe = OneHotEncoder(sparse=False)\n",
    "train_school_state_label_encoded_oh = ohe.fit_transform(np.array(X_train.school_state).reshape(-1,1))\n",
    "cv_school_state_label_encoded_oh = ohe.transform(np.array(X_cv.school_state).reshape(-1,1))\n",
    "test_school_state_label_encoded_oh = ohe.transform(np.array(X_test.school_state).reshape(-1,1))\n",
    "\n",
    "print(\"number of Unique categories in School State feature :\",len(np.unique(ohe.categories_)))\n",
    "print(test_school_state_label_encoded_oh)"
   ]
  },
  {
   "cell_type": "markdown",
   "metadata": {},
   "source": [
    "### 3.2 Preparing teacher_prefix data for training"
   ]
  },
  {
   "cell_type": "code",
   "execution_count": 98,
   "metadata": {},
   "outputs": [
    {
     "name": "stdout",
     "output_type": "stream",
     "text": [
      "number of Unique categories in teacher_prefix feature : 5\n",
      "\n",
      "before: \n",
      "73624     ms\n",
      "2158     mrs\n",
      "74759    mrs\n",
      "89804    mrs\n",
      "18127    mrs\n",
      "Name: teacher_prefix, dtype: object\n",
      "\n",
      "after: \n",
      "[[0. 0. 0. 1. 0.]\n",
      " [0. 0. 1. 0. 0.]\n",
      " [0. 0. 1. 0. 0.]\n",
      " [0. 0. 1. 0. 0.]\n",
      " [0. 0. 1. 0. 0.]]\n"
     ]
    }
   ],
   "source": [
    "ohe = OneHotEncoder(sparse=False)\n",
    "train_teacher_prefix_label_encoded_oh = ohe.fit_transform(np.array(X_train.teacher_prefix).reshape(-1,1))\n",
    "cv_teacher_prefix_label_encoded_oh = ohe.transform(np.array(X_cv.teacher_prefix).reshape(-1,1))\n",
    "test_teacher_prefix_label_encoded_oh = ohe.transform(np.array(X_test.teacher_prefix).reshape(-1,1))\n",
    "\n",
    "print(\"number of Unique categories in teacher_prefix feature :\",len(np.unique(ohe.categories_)))\n",
    "print(f\"\\nbefore: \\n{X_test.teacher_prefix.iloc[:5]}\\n\")\n",
    "print(f\"after: \\n{test_teacher_prefix_label_encoded_oh[:5]}\")"
   ]
  },
  {
   "cell_type": "markdown",
   "metadata": {},
   "source": [
    "### 3.3 Preparing project_grade_category data for training"
   ]
  },
  {
   "cell_type": "code",
   "execution_count": 99,
   "metadata": {},
   "outputs": [
    {
     "name": "stdout",
     "output_type": "stream",
     "text": [
      "number of Unique categories in project_grade_category feature : 4\n",
      "\n",
      "before: \n",
      "73624    grades_prek_2\n",
      "2158     grades_prek_2\n",
      "74759    grades_prek_2\n",
      "89804       grades_3_5\n",
      "18127    grades_prek_2\n",
      "Name: project_grade_category, dtype: object\n",
      "\n",
      "after: \n",
      "[[0. 0. 0. 1.]\n",
      " [0. 0. 0. 1.]\n",
      " [0. 0. 0. 1.]\n",
      " [1. 0. 0. 0.]\n",
      " [0. 0. 0. 1.]]\n"
     ]
    }
   ],
   "source": [
    "ohe = OneHotEncoder(sparse=False)\n",
    "train_grade_label_encoded_oh = ohe.fit_transform(np.array(X_train.project_grade_category).reshape(-1,1))\n",
    "cv_grade_label_encoded_oh = ohe.transform(np.array(X_cv.project_grade_category).reshape(-1,1))\n",
    "test_grade_label_encoded_oh = ohe.transform(np.array(X_test.project_grade_category).reshape(-1,1))\n",
    "\n",
    "print(\"number of Unique categories in project_grade_category feature :\",len(np.unique(ohe.categories_)))\n",
    "print(f\"\\nbefore: \\n{X_test.project_grade_category.iloc[:5]}\\n\")\n",
    "print(f\"after: \\n{test_grade_label_encoded_oh[:5]}\")"
   ]
  },
  {
   "cell_type": "markdown",
   "metadata": {},
   "source": [
    "### 3.4. Preparing clean_categories data for training"
   ]
  },
  {
   "cell_type": "code",
   "execution_count": 100,
   "metadata": {},
   "outputs": [
    {
     "name": "stdout",
     "output_type": "stream",
     "text": [
      "number of Unique clean_categories in teacher_prefix feature : 51\n",
      "\n",
      "before: \n",
      "73624                 literacy_language\n",
      "2158     literacy_language math_science\n",
      "74759                 literacy_language\n",
      "89804                 literacy_language\n",
      "18127                   appliedlearning\n",
      "Name: clean_categories, dtype: object\n",
      "\n",
      "after: \n",
      "[[0. 0. 0. 0. 0. 0. 0. 0. 0. 0. 0. 0. 0. 0. 0. 0. 0. 0. 0. 0. 0. 0. 0. 0.\n",
      "  1. 0. 0. 0. 0. 0. 0. 0. 0. 0. 0. 0. 0. 0. 0. 0. 0. 0. 0. 0. 0. 0. 0. 0.\n",
      "  0. 0. 0.]\n",
      " [0. 0. 0. 0. 0. 0. 0. 0. 0. 0. 0. 0. 0. 0. 0. 0. 0. 0. 0. 0. 0. 0. 0. 0.\n",
      "  0. 0. 0. 0. 1. 0. 0. 0. 0. 0. 0. 0. 0. 0. 0. 0. 0. 0. 0. 0. 0. 0. 0. 0.\n",
      "  0. 0. 0.]\n",
      " [0. 0. 0. 0. 0. 0. 0. 0. 0. 0. 0. 0. 0. 0. 0. 0. 0. 0. 0. 0. 0. 0. 0. 0.\n",
      "  1. 0. 0. 0. 0. 0. 0. 0. 0. 0. 0. 0. 0. 0. 0. 0. 0. 0. 0. 0. 0. 0. 0. 0.\n",
      "  0. 0. 0.]\n",
      " [0. 0. 0. 0. 0. 0. 0. 0. 0. 0. 0. 0. 0. 0. 0. 0. 0. 0. 0. 0. 0. 0. 0. 0.\n",
      "  1. 0. 0. 0. 0. 0. 0. 0. 0. 0. 0. 0. 0. 0. 0. 0. 0. 0. 0. 0. 0. 0. 0. 0.\n",
      "  0. 0. 0.]\n",
      " [1. 0. 0. 0. 0. 0. 0. 0. 0. 0. 0. 0. 0. 0. 0. 0. 0. 0. 0. 0. 0. 0. 0. 0.\n",
      "  0. 0. 0. 0. 0. 0. 0. 0. 0. 0. 0. 0. 0. 0. 0. 0. 0. 0. 0. 0. 0. 0. 0. 0.\n",
      "  0. 0. 0.]]\n"
     ]
    }
   ],
   "source": [
    "ohe = OneHotEncoder(sparse=False)\n",
    "train_encoded_clean_categories_oh = ohe.fit_transform(np.array(X_train.clean_categories).reshape(-1,1))\n",
    "cv_encoded_clean_categories_oh = ohe.transform(np.array(X_cv.clean_categories).reshape(-1,1))\n",
    "test_encoded_clean_categories_oh = ohe.transform(np.array(X_test.clean_categories).reshape(-1,1))\n",
    "\n",
    "print(\"number of Unique clean_categories in teacher_prefix feature :\",len(np.unique(ohe.categories_)))\n",
    "print(f\"\\nbefore: \\n{X_test.clean_categories.iloc[:5]}\\n\")\n",
    "print(f\"after: \\n{test_encoded_clean_categories_oh[:5]}\")\n",
    "\n"
   ]
  },
  {
   "cell_type": "markdown",
   "metadata": {},
   "source": [
    "### 3.5. Preparing clean_subcategories data for training"
   ]
  },
  {
   "cell_type": "code",
   "execution_count": 101,
   "metadata": {},
   "outputs": [
    {
     "name": "stdout",
     "output_type": "stream",
     "text": [
      "number of Unique categories in clean_subcategories feature : 30\n",
      "\n",
      "before: \n",
      "73624                literacy\n",
      "2158     literacy mathematics\n",
      "74759                literacy\n",
      "89804      literature_writing\n",
      "18127        earlydevelopment\n",
      "Name: clean_subcategories, dtype: object\n",
      "\n",
      "after: \n",
      "[[0 0 0 0 0 0 0 0 0 0 0 0 0 0 0 0 0 1 0 0 0 0 0 0 0 0 0 0 0 0]\n",
      " [0 0 0 0 0 0 0 0 0 0 0 0 0 0 0 0 0 1 0 1 0 0 0 0 0 0 0 0 0 0]\n",
      " [0 0 0 0 0 0 0 0 0 0 0 0 0 0 0 0 0 1 0 0 0 0 0 0 0 0 0 0 0 0]\n",
      " [0 0 0 0 0 0 0 0 0 0 0 0 0 0 0 0 0 0 1 0 0 0 0 0 0 0 0 0 0 0]\n",
      " [0 0 0 0 0 0 1 0 0 0 0 0 0 0 0 0 0 0 0 0 0 0 0 0 0 0 0 0 0 0]]\n"
     ]
    }
   ],
   "source": [
    "from sklearn.feature_extraction.text import CountVectorizer\n",
    "\n",
    "count_vect =CountVectorizer()\n",
    "train_encoded_clean_subcategories_oh = count_vect.fit_transform((X_train.clean_subcategories)).toarray()\n",
    "cv_encoded_clean_subcategories_oh = count_vect.transform((X_cv.clean_subcategories)).toarray()\n",
    "test_encoded_clean_subcategories_oh = count_vect.transform((X_test.clean_subcategories)).toarray()\n",
    "\n",
    "print(\"number of Unique categories in clean_subcategories feature :\",len(np.unique(count_vect.get_feature_names())))\n",
    "print(f\"\\nbefore: \\n{X_test.clean_subcategories.iloc[:5]}\\n\")\n",
    "print(f\"after: \\n{test_encoded_clean_subcategories_oh[:5]}\")"
   ]
  },
  {
   "cell_type": "markdown",
   "metadata": {},
   "source": [
    "### 3.6 Training using Model-3"
   ]
  },
  {
   "cell_type": "code",
   "execution_count": 103,
   "metadata": {},
   "outputs": [],
   "source": [
    "#initialisation of vocab size and shapes of all input features\n",
    "\n",
    "# Vocab size of each feature for Embeding Layer\n",
    "vocab_size_essay_idf = len(selected_vocab)+1  # adding 1 for zero padding index\n",
    "\n",
    "# shapes of input of each feaures for Input Layer\n",
    "train_padded_essay_shape = train_padded_essay_selected_idf.shape\n",
    "train_school_state_label_encoded_shape = train_school_state_label_encoded_oh.shape\n",
    "train_teacher_prefix_label_encoded_shape = train_teacher_prefix_label_encoded_oh.shape\n",
    "train_grade_label_encoded_shape = train_grade_label_encoded_oh.shape\n",
    "train_padded_clean_subcategories_shape = train_encoded_clean_subcategories_oh.shape\n",
    "train_padded_clean_categories_shape = train_encoded_clean_categories_oh.shape\n",
    "train_price_shape = X_train['price'].shape\n",
    "train_teacher_number_of_previously_posted_projects_shape = X_train[\"teacher_number_of_previously_posted_projects\"].shape"
   ]
  },
  {
   "cell_type": "markdown",
   "metadata": {},
   "source": [
    "#### Model 3"
   ]
  },
  {
   "cell_type": "code",
   "execution_count": 109,
   "metadata": {},
   "outputs": [
    {
     "name": "stdout",
     "output_type": "stream",
     "text": [
      "(None, 145)\n",
      "Model: \"model\"\n",
      "__________________________________________________________________________________________________\n",
      "Layer (type)                    Output Shape         Param #     Connected to                     \n",
      "==================================================================================================\n",
      "school_state_input (InputLayer) [(None, 51)]         0                                            \n",
      "__________________________________________________________________________________________________\n",
      "teacher_prefix (InputLayer)     [(None, 5)]          0                                            \n",
      "__________________________________________________________________________________________________\n",
      "project_grade_category (InputLa [(None, 4)]          0                                            \n",
      "__________________________________________________________________________________________________\n",
      "clean_categories (InputLayer)   [(None, 51)]         0                                            \n",
      "__________________________________________________________________________________________________\n",
      "clean_subcategories (InputLayer [(None, 30)]         0                                            \n",
      "__________________________________________________________________________________________________\n",
      "price (InputLayer)              [(None, 1)]          0                                            \n",
      "__________________________________________________________________________________________________\n",
      "teacher_number_of_previously_po [(None, 1)]          0                                            \n",
      "__________________________________________________________________________________________________\n",
      "quantity (InputLayer)           [(None, 1)]          0                                            \n",
      "__________________________________________________________________________________________________\n",
      "presence_of_num (InputLayer)    [(None, 1)]          0                                            \n",
      "__________________________________________________________________________________________________\n",
      "concat_other_than_essay (Concat (None, 145)          0           school_state_input[0][0]         \n",
      "                                                                 teacher_prefix[0][0]             \n",
      "                                                                 project_grade_category[0][0]     \n",
      "                                                                 clean_categories[0][0]           \n",
      "                                                                 clean_subcategories[0][0]        \n",
      "                                                                 price[0][0]                      \n",
      "                                                                 teacher_number_of_previously_post\n",
      "                                                                 quantity[0][0]                   \n",
      "                                                                 presence_of_num[0][0]            \n",
      "__________________________________________________________________________________________________\n",
      "reshape (Reshape)               (None, 145, 1)       0           concat_other_than_essay[0][0]    \n",
      "__________________________________________________________________________________________________\n",
      "Convolution_layer_1 (Conv1D)    (None, 143, 256)     1024        reshape[0][0]                    \n",
      "__________________________________________________________________________________________________\n",
      "essay_input (InputLayer)        [(None, 331)]        0                                            \n",
      "__________________________________________________________________________________________________\n",
      "max_pooling1d (MaxPooling1D)    (None, 47, 256)      0           Convolution_layer_1[0][0]        \n",
      "__________________________________________________________________________________________________\n",
      "embedding (Embedding)           (None, 331, 300)     8656800     essay_input[0][0]                \n",
      "__________________________________________________________________________________________________\n",
      "Convolution_layer_2 (Conv1D)    (None, 45, 128)      98432       max_pooling1d[0][0]              \n",
      "__________________________________________________________________________________________________\n",
      "lstm (LSTM)                     (None, 331, 64)      93440       embedding[0][0]                  \n",
      "__________________________________________________________________________________________________\n",
      "max_pooling1d_1 (MaxPooling1D)  (None, 15, 128)      0           Convolution_layer_2[0][0]        \n",
      "__________________________________________________________________________________________________\n",
      "flatten (Flatten)               (None, 21184)        0           lstm[0][0]                       \n",
      "__________________________________________________________________________________________________\n",
      "flatten_1 (Flatten)             (None, 1920)         0           max_pooling1d_1[0][0]            \n",
      "__________________________________________________________________________________________________\n",
      "concat_all_features (Concatenat (None, 23104)        0           flatten[0][0]                    \n",
      "                                                                 flatten_1[0][0]                  \n",
      "__________________________________________________________________________________________________\n",
      "dense (Dense)                   (None, 128)          2957440     concat_all_features[0][0]        \n",
      "__________________________________________________________________________________________________\n",
      "dropout (Dropout)               (None, 128)          0           dense[0][0]                      \n",
      "__________________________________________________________________________________________________\n",
      "dense_1 (Dense)                 (None, 64)           8256        dropout[0][0]                    \n",
      "__________________________________________________________________________________________________\n",
      "dropout_1 (Dropout)             (None, 64)           0           dense_1[0][0]                    \n",
      "__________________________________________________________________________________________________\n",
      "dense_2 (Dense)                 (None, 64)           4160        dropout_1[0][0]                  \n",
      "__________________________________________________________________________________________________\n",
      "output_layer (Dense)            (None, 2)            130         dense_2[0][0]                    \n",
      "==================================================================================================\n",
      "Total params: 11,819,682\n",
      "Trainable params: 3,162,882\n",
      "Non-trainable params: 8,656,800\n",
      "__________________________________________________________________________________________________\n",
      "None\n"
     ]
    }
   ],
   "source": [
    "# Model 3 using Keras Functional Api\n",
    "tf.keras.backend.clear_session()\n",
    "\n",
    "# Eaasy\n",
    "input1= Input(shape=(train_padded_essay_shape[1],) ,name='essay_input' )\n",
    "# Essay embed layer using pretrained Glove embedings of 300 dim\n",
    "Embeded_layer1 = Embedding(vocab_size_essay_idf, output_dim=300, weights=[new_embedding_matrix], input_length=339, trainable=False)(input1)\n",
    "# Lstm layer for essay\n",
    "lstm_layer1 = (layers.LSTM(units=64,return_sequences=True,dropout=0.2))(Embeded_layer1)\n",
    "flatten1 = Flatten()(lstm_layer1)\n",
    "\n",
    "# school state\n",
    "input2= Input(shape=(train_school_state_label_encoded_shape[1],) ,name='school_state_input')\n",
    "\n",
    "# teacher_prefix\n",
    "input3= Input(shape=(train_teacher_prefix_label_encoded_shape[1],) ,name='teacher_prefix')\n",
    "\n",
    "# project_grade_category\n",
    "input4= Input(shape=(train_grade_label_encoded_shape[1],) ,name='project_grade_category')\n",
    "\n",
    "# clean_subcategories\n",
    "input5= Input(shape=(train_padded_clean_categories_shape[1],) ,name='clean_categories')\n",
    "\n",
    "# clean_subcategories\n",
    "input6= Input(shape=(train_padded_clean_subcategories_shape[1],) ,name='clean_subcategories')\n",
    "\n",
    "# price\n",
    "input7 = Input(shape=(1,) ,name='price')\n",
    "\n",
    "# teacher_number_of_previously_posted_projects\n",
    "input8 = Input(shape=(1,) ,name='teacher_number_of_previously_posted_projects')\n",
    "\n",
    "# mean quantity\n",
    "input9 = Input(shape=(1,) ,name='quantity')\n",
    "\n",
    "# presence_of_num \n",
    "input10 = Input(shape=(1,) ,name='presence_of_num')\n",
    "\n",
    "# Concatenation of all inputs ecxept essay feature\n",
    "concat_other_than_essay = layers.concatenate([input2,input3,input4,input5,input6,input7,input8,input9,input10],name='concat_other_than_essay')\n",
    "print(concat_other_than_essay.shape)\n",
    "concat_other_than_essay =  layers.Reshape([145,1])(concat_other_than_essay)\n",
    "\n",
    "\n",
    "# Convolution 1-D on concatenated feature \n",
    "convolution1=layers.Conv1D(filters=256,\n",
    "              kernel_size=3,\n",
    "              strides=1,\n",
    "              padding='valid',\n",
    "              activation='relu',\n",
    "              kernel_initializer='glorot_uniform',name='Convolution_layer_1')(concat_other_than_essay)\n",
    "# Maxpool layer 1\n",
    "maxpool1 = layers.MaxPool1D(pool_size=3)(convolution1)\n",
    "\n",
    "# Convolution layer 2\n",
    "convolution2=layers.Convolution1D(filters=128,\n",
    "              kernel_size=3,\n",
    "              strides=1,\n",
    "              padding='valid',\n",
    "              activation='relu',\n",
    "              kernel_initializer='glorot_uniform',name='Convolution_layer_2')(maxpool1)\n",
    "# Maxpool layer 2\n",
    "maxpool2 = layers.MaxPool1D(pool_size=3)(convolution2)\n",
    "# Flatten the output of final convolution layer\n",
    "flatten2 = Flatten()(maxpool2)\n",
    "\n",
    "# Concat fllaten LSTM of essay and flatten Convolution of other_than_essay_feature\n",
    "Contat2 = layers.concatenate([flatten1,flatten2], name='concat_all_features')\n",
    "\n",
    "# Train Dense on concatenation of all feat (concat2)\n",
    "dense1 = Dense(128,activation='relu',kernel_initializer='he_uniform')(Contat2)\n",
    "dropout1 = Dropout(rate=0.5)(dense1)\n",
    "\n",
    "# Dense layer 2 after concatenation of all output\n",
    "dense_layer2 = Dense(units=64 ,activation='relu' ,kernel_initializer='he_uniform')(dropout1)\n",
    "dropout2 = Dropout(rate=0.5)(dense_layer2)\n",
    "\n",
    "# Dense layer 3 after concatenation of all output\n",
    "dense_layer3 = Dense(units=64 ,activation='relu' ,kernel_initializer='he_uniform')(dropout2)\n",
    "\n",
    "#output\n",
    "output = Dense(units=2 ,activation='softmax' ,kernel_initializer='glorot_uniform', name=\"output_layer\")(dense_layer3)\n",
    "\n",
    "Model3 = Model(inputs=[input1,input2,input3,input4,input5,input6,input7,input8,input9,input10], outputs=output)\n",
    "print(Model3.summary())"
   ]
  },
  {
   "cell_type": "code",
   "execution_count": 110,
   "metadata": {},
   "outputs": [],
   "source": [
    "\n",
    "train=[train_padded_essay_selected_idf,train_school_state_label_encoded_oh,train_teacher_prefix_label_encoded_oh,train_grade_label_encoded_oh,\n",
    "       train_encoded_clean_categories_oh,train_encoded_clean_subcategories_oh,X_train[\"price\"],X_train[\"teacher_number_of_previously_posted_projects\"],\n",
    "       X_train['quantity'],X_train['presence_of_number_in_description']]\n",
    "\n",
    "cv = [cv_padded_essay_selected_idf,cv_school_state_label_encoded_oh,cv_teacher_prefix_label_encoded_oh,cv_grade_label_encoded_oh,\n",
    "      cv_encoded_clean_categories_oh,cv_encoded_clean_subcategories_oh,X_cv[\"price\"],X_cv[\"teacher_number_of_previously_posted_projects\"],\n",
    "      X_cv['quantity'],X_cv['presence_of_number_in_description']]\n",
    "\n",
    "test = [test_padded_essay_selected_idf,test_school_state_label_encoded_oh,test_teacher_prefix_label_encoded_oh,test_grade_label_encoded_oh,\n",
    "        test_encoded_clean_categories_oh,test_encoded_clean_subcategories_oh,X_test[\"price\"],X_test[\"teacher_number_of_previously_posted_projects\"],\n",
    "        X_test['quantity'],X_test['presence_of_number_in_description']]\n"
   ]
  },
  {
   "cell_type": "markdown",
   "metadata": {},
   "source": [
    "### 3.7 Training"
   ]
  },
  {
   "cell_type": "code",
   "execution_count": 111,
   "metadata": {},
   "outputs": [
    {
     "name": "stdout",
     "output_type": "stream",
     "text": [
      "WARNING:tensorflow:`period` argument is deprecated. Please use `save_freq` to specify the frequency in number of samples seen.\n",
      "WARNING:tensorflow:Falling back from v2 loop because of error: Failed to find data adapter that can handle input: (<class 'list'> containing values of types {\"<class 'pandas.core.series.Series'>\", \"<class 'numpy.ndarray'>\"}), <class 'NoneType'>\n",
      "Train on 69918 samples, validate on 21850 samples\n",
      "Epoch 1/150\n",
      "WARNING:tensorflow:Trace already enabled\n",
      "WARNING:tensorflow:Method (on_train_batch_end) is slow compared to the batch update (1.487852). Check your callbacks.\n",
      "69918/69918 - 25s - loss: 0.4373 - auroc: 0.6435 - val_loss: 0.3935 - val_auroc: 0.7289\n",
      "Epoch 2/150\n",
      "69918/69918 - 21s - loss: 0.3888 - auroc: 0.7232 - val_loss: 0.4031 - val_auroc: 0.7430\n",
      "Epoch 3/150\n",
      "69918/69918 - 21s - loss: 0.3729 - auroc: 0.7509 - val_loss: 0.3968 - val_auroc: 0.7491\n",
      "Epoch 4/150\n",
      "69918/69918 - 21s - loss: 0.3616 - auroc: 0.7743 - val_loss: 0.3770 - val_auroc: 0.7518\n",
      "Epoch 5/150\n",
      "69918/69918 - 21s - loss: 0.3441 - auroc: 0.8003 - val_loss: 0.3793 - val_auroc: 0.7477\n",
      "Epoch 6/150\n",
      "69918/69918 - 21s - loss: 0.3228 - auroc: 0.8295 - val_loss: 0.3823 - val_auroc: 0.7371\n",
      "Epoch 7/150\n",
      "69918/69918 - 21s - loss: 0.2920 - auroc: 0.8645 - val_loss: 0.3819 - val_auroc: 0.7306\n",
      "Epoch 8/150\n",
      "69918/69918 - 21s - loss: 0.2642 - auroc: 0.8937 - val_loss: 0.3972 - val_auroc: 0.7211\n",
      "Epoch 9/150\n",
      "69918/69918 - 21s - loss: 0.2326 - auroc: 0.9182 - val_loss: 0.4049 - val_auroc: 0.7189\n",
      "Epoch 10/150\n",
      "\n",
      "Epoch 00010: val_auroc improved from -inf to 0.71483, saving model to weights.10-0.44.hdf5\n",
      "69918/69918 - 22s - loss: 0.2093 - auroc: 0.9342 - val_loss: 0.4413 - val_auroc: 0.7148\n",
      "Epoch 11/150\n",
      "69918/69918 - 21s - loss: 0.1838 - auroc: 0.9512 - val_loss: 0.4278 - val_auroc: 0.7175\n",
      "Epoch 12/150\n",
      "69918/69918 - 21s - loss: 0.1695 - auroc: 0.9585 - val_loss: 0.4397 - val_auroc: 0.7084\n",
      "Epoch 13/150\n",
      "69918/69918 - 21s - loss: 0.1535 - auroc: 0.9663 - val_loss: 0.5058 - val_auroc: 0.7175\n",
      "Epoch 14/150\n",
      "Restoring model weights from the end of the best epoch.\n",
      "69918/69918 - 21s - loss: 0.1429 - auroc: 0.9713 - val_loss: 0.4860 - val_auroc: 0.7115\n",
      "Epoch 00014: early stopping\n"
     ]
    },
    {
     "data": {
      "text/plain": [
       "<tensorflow.python.keras.callbacks.History at 0x2beae466ec8>"
      ]
     },
     "execution_count": 111,
     "metadata": {},
     "output_type": "execute_result"
    }
   ],
   "source": [
    "# Traning using Model-3\n",
    "\n",
    "# defining custom ROC AUC for keras ,refer: https://stackoverflow.com/a/51734992\n",
    "from sklearn.metrics import roc_auc_score\n",
    "def auroc(y_true, y_pred):\n",
    "    return tf.compat.v1.py_func(roc_auc_score, (y_true, y_pred), tf.double)\n",
    "\n",
    "# Checkpoint callbacks\n",
    "check_point = ModelCheckpoint(\n",
    "    filepath='weights.{epoch:02d}-{val_loss:.2f}.hdf5',\n",
    "    monitor='val_auroc',\n",
    "    verbose=1,\n",
    "    save_best_only=True,\n",
    "    save_weights_only=True,\n",
    "    mode='max',\n",
    "    period=10)\n",
    "\n",
    "# TensorBoard \n",
    "logs_base_dir = \".\\logs\"\n",
    "os.makedirs(logs_base_dir, exist_ok=True)\n",
    "logdir = os.path.join(logs_base_dir, datetime.datetime.now().strftime(\"%Y%m%d-%H%M%S\"))\n",
    "tensorboard_callback = TensorBoard(logdir)\n",
    "\n",
    "# Early Stopper callback\n",
    "e_stopper = tf.keras.callbacks.EarlyStopping(monitor='val_auroc',\n",
    "                              min_delta=0,\n",
    "                              patience=10,\n",
    "                              verbose=1, mode='max',restore_best_weights=True,)\n",
    "\n",
    "Model3.compile(optimizer='adam', loss='binary_crossentropy', metrics=[auroc])\n",
    "Model3.fit(x=train, y=y_train,\n",
    "           batch_size=256,\n",
    "           epochs=150,\n",
    "           validation_data=(cv, y_cv),\n",
    "           callbacks=[check_point, tensorboard_callback, e_stopper],\n",
    "           verbose=2,                   \n",
    "           )"
   ]
  },
  {
   "cell_type": "markdown",
   "metadata": {},
   "source": [
    "### 2.7 Saving the weights and Evaluation"
   ]
  },
  {
   "cell_type": "code",
   "execution_count": 112,
   "metadata": {},
   "outputs": [
    {
     "name": "stdout",
     "output_type": "stream",
     "text": [
      "Saved model to disk\n",
      "Loaded model from disk\n"
     ]
    }
   ],
   "source": [
    "# refer: https://machinelearningmastery.com/save-load-keras-deep-learning-models/\n",
    "\n",
    "# Saving the model weights\n",
    "Model3.save_weights(\"model3.h5\")\n",
    "print(\"Saved model to disk\")\n",
    "\n",
    "# Loading Model and weights\n",
    "Model3.compile(optimizer='adam', loss='categorical_crossentropy', metrics=[auroc])\n",
    "Model3.load_weights(\"model3.h5\")\n",
    "print(\"Loaded model from disk\")"
   ]
  },
  {
   "cell_type": "markdown",
   "metadata": {},
   "source": [
    "#### Evalution using keras custom roc auc"
   ]
  },
  {
   "cell_type": "code",
   "execution_count": 113,
   "metadata": {},
   "outputs": [
    {
     "name": "stdout",
     "output_type": "stream",
     "text": [
      "WARNING:tensorflow:Falling back from v2 loop because of error: Failed to find data adapter that can handle input: (<class 'list'> containing values of types {\"<class 'pandas.core.series.Series'>\", \"<class 'numpy.ndarray'>\"}), <class 'NoneType'>\n",
      "69918/69918 - 18s - loss: 0.3478 - auroc: 0.8349\n",
      "train auroc:  0.8349214792251587\n",
      "\n",
      "WARNING:tensorflow:Falling back from v2 loop because of error: Failed to find data adapter that can handle input: (<class 'list'> containing values of types {\"<class 'pandas.core.series.Series'>\", \"<class 'numpy.ndarray'>\"}), <class 'NoneType'>\n",
      "21850/21850 - 5s - loss: 0.3770 - auroc: 0.7528\n",
      "cv auroc:  0.752826988697052\n",
      "\n",
      "WARNING:tensorflow:Falling back from v2 loop because of error: Failed to find data adapter that can handle input: (<class 'list'> containing values of types {\"<class 'pandas.core.series.Series'>\", \"<class 'numpy.ndarray'>\"}), <class 'NoneType'>\n",
      "17480/17480 - 4s - loss: 0.3807 - auroc: 0.7430\n",
      "test auroc:  0.7430437207221985\n",
      "\n"
     ]
    }
   ],
   "source": [
    "# evaluate loaded model on test data   \n",
    "train_score = Model3.evaluate(train,y_train, verbose=2,batch_size=(128))\n",
    "print(f\"train {Model3.metrics_names[1]}:  {train_score[1]}\\n\")\n",
    "\n",
    "cv_score = Model3.evaluate(cv,y_cv, verbose=2,batch_size=(128))\n",
    "print(f\"cv {Model3.metrics_names[1]}:  {cv_score[1]}\\n\")\n",
    "\n",
    "test_score = Model3.evaluate(test,y_test, verbose=2,batch_size=(128))\n",
    "print(f\"test {Model3.metrics_names[1]}:  {test_score[1]}\\n\")"
   ]
  },
  {
   "cell_type": "markdown",
   "metadata": {},
   "source": [
    "#### Evalution using direct sklearn roc auc"
   ]
  },
  {
   "cell_type": "code",
   "execution_count": 114,
   "metadata": {},
   "outputs": [
    {
     "name": "stdout",
     "output_type": "stream",
     "text": [
      "WARNING:tensorflow:Falling back from v2 loop because of error: Failed to find data adapter that can handle input: (<class 'list'> containing values of types {\"<class 'pandas.core.series.Series'>\", \"<class 'numpy.ndarray'>\"}), <class 'NoneType'>\n",
      "Train auroc:  0.844925395892924\n",
      "\n",
      "WARNING:tensorflow:Falling back from v2 loop because of error: Failed to find data adapter that can handle input: (<class 'list'> containing values of types {\"<class 'pandas.core.series.Series'>\", \"<class 'numpy.ndarray'>\"}), <class 'NoneType'>\n",
      "Cv auroc:  0.7609313680046971\n",
      "\n",
      "WARNING:tensorflow:Falling back from v2 loop because of error: Failed to find data adapter that can handle input: (<class 'list'> containing values of types {\"<class 'pandas.core.series.Series'>\", \"<class 'numpy.ndarray'>\"}), <class 'NoneType'>\n",
      "test auroc:  0.7416349716749208\n",
      "\n"
     ]
    }
   ],
   "source": [
    "# sklearn ROC AUC\n",
    "train_score = Model3.predict(train)\n",
    "print(f\"Train {Model3.metrics_names[1]}:  {sklearn_roc(y_train,train_score)}\\n\")\n",
    "\n",
    "cv_score = Model3.predict(cv)\n",
    "print(f\"Cv {Model3.metrics_names[1]}:  {sklearn_roc(y_cv,cv_score)}\\n\")\n",
    "\n",
    "test_score = Model3.predict(test)\n",
    "print(f\"test {Model3.metrics_names[1]}:  {sklearn_roc(y_test,test_score)}\\n\")\n"
   ]
  },
  {
   "cell_type": "markdown",
   "metadata": {},
   "source": [
    "# 4.Result"
   ]
  },
  {
   "cell_type": "code",
   "execution_count": 23,
   "metadata": {},
   "outputs": [
    {
     "name": "stdout",
     "output_type": "stream",
     "text": [
      "The tensorboard extension is already loaded. To reload it, use:\n",
      "  %reload_ext tensorboard\n"
     ]
    },
    {
     "data": {
      "text/plain": [
       "'!del /q %TMP%\\\\.tensorboard-info\\\\*'"
      ]
     },
     "execution_count": 23,
     "metadata": {},
     "output_type": "execute_result"
    }
   ],
   "source": [
    "%load_ext tensorboard\n",
    "# Start TENSORBOARD\n",
    "\"\"\"!del /q %TMP%\\.tensorboard-info\\*\"\"\" # Execute in case of 'localhost refused to connect'"
   ]
  },
  {
   "cell_type": "code",
   "execution_count": 22,
   "metadata": {},
   "outputs": [
    {
     "data": {
      "text/plain": [
       "\"%tensorboard --logdir {'logs'}  --host localhost \""
      ]
     },
     "execution_count": 22,
     "metadata": {},
     "output_type": "execute_result"
    }
   ],
   "source": [
    "\"\"\"%tensorboard --logdir {'logs'}  --host localhost \"\"\""
   ]
  },
  {
   "cell_type": "markdown",
   "metadata": {},
   "source": [
    "### 4.1 EPOCH  AUROC graph from tensorboard"
   ]
  },
  {
   "cell_type": "code",
   "execution_count": 14,
   "metadata": {},
   "outputs": [
    {
     "data": {
      "image/png": "[encoded data removed]",
      "text/plain": [
       "<IPython.core.display.Image object>"
      ]
     },
     "execution_count": 14,
     "metadata": {},
     "output_type": "execute_result"
    }
   ],
   "source": [
    "from IPython.display import Image\n",
    "Image(\"epoch auroc.png\")"
   ]
  },
  {
   "cell_type": "markdown",
   "metadata": {},
   "source": [
    "### 4.2 EPOCH Loss graph"
   ]
  },
  {
   "cell_type": "code",
   "execution_count": 18,
   "metadata": {},
   "outputs": [
    {
     "data": {
      "image/png": "[encoded data removed]",
      "text/plain": [
       "<IPython.core.display.Image object>"
      ]
     },
     "execution_count": 18,
     "metadata": {},
     "output_type": "execute_result"
    }
   ],
   "source": [
    "from IPython.display import Image\n",
    "Image(\"epoch loss.png\")"
   ]
  },
  {
   "cell_type": "markdown",
   "metadata": {},
   "source": [
    "### 4.3 Pretty Table"
   ]
  },
  {
   "cell_type": "code",
   "execution_count": 6,
   "metadata": {},
   "outputs": [
    {
     "name": "stdout",
     "output_type": "stream",
     "text": [
      "+--------+---------------+------------+--------------+\n",
      "| Model  | train_roc_auc | cv_roc_auc | test_roc_auc |\n",
      "+--------+---------------+------------+--------------+\n",
      "| Model1 |      0.78     |   0.757    |     0.75     |\n",
      "| Model2 |      0.74     |   0.702    |    0.701     |\n",
      "| Model3 |     0.844     |    0.76    |    0.741     |\n",
      "+--------+---------------+------------+--------------+\n"
     ]
    }
   ],
   "source": [
    "from prettytable import PrettyTable\n",
    "x=PrettyTable(field_names=[\"Model\",\"train_roc_auc\",\"cv_roc_auc\",\"test_roc_auc\"])\n",
    "x.add_row([\"Model1\",0.780,0.757,0.750])\n",
    "x.add_row([\"Model2\",0.740,0.702,0.701])\n",
    "x.add_row([\"Model3\",0.844,0.760,0.741])\n",
    "print(x)"
   ]
  },
  {
   "cell_type": "markdown",
   "metadata": {},
   "source": [
    "END:)"
   ]
  }
 ],
 "metadata": {
  "kernelspec": {
   "display_name": "Python 3",
   "language": "python",
   "name": "python3"
  },
  "language_info": {
   "codemirror_mode": {
    "name": "ipython",
    "version": 3
   },
   "file_extension": ".py",
   "mimetype": "text/x-python",
   "name": "python",
   "nbconvert_exporter": "python",
   "pygments_lexer": "ipython3",
   "version": "3.7.4"
  }
 },
 "nbformat": 4,
 "nbformat_minor": 4
}
